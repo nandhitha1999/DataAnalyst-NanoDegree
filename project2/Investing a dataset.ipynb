{
 "cells": [
  {
   "cell_type": "markdown",
   "metadata": {},
   "source": [
    "# INVESTIGATE A DATASET - IMDB MOVIES DATASET"
   ]
  },
  {
   "cell_type": "markdown",
   "metadata": {},
   "source": [
    "### **INTRODUCTION:**\n",
    "In this project of my Data Analysis journey, I am investigating a TMDb movies collection from a database file, which has details of about 10k+ movies, including their details of budget, revenue, release dates, popularity, genre, cast, etc.\n",
    "\n",
    "The dataset for Analysis is obtained from Kaggle and few insights and plots are created to understand the data better. (https://www.kaggle.com/tmdb/tmdb-movie-metadata)"
   ]
  },
  {
   "cell_type": "code",
   "execution_count": 7,
   "metadata": {},
   "outputs": [
    {
     "data": {
      "text/html": [
       "<div>\n",
       "<style scoped>\n",
       "    .dataframe tbody tr th:only-of-type {\n",
       "        vertical-align: middle;\n",
       "    }\n",
       "\n",
       "    .dataframe tbody tr th {\n",
       "        vertical-align: top;\n",
       "    }\n",
       "\n",
       "    .dataframe thead th {\n",
       "        text-align: right;\n",
       "    }\n",
       "</style>\n",
       "<table border=\"1\" class=\"dataframe\">\n",
       "  <thead>\n",
       "    <tr style=\"text-align: right;\">\n",
       "      <th></th>\n",
       "      <th>id</th>\n",
       "      <th>imdb_id</th>\n",
       "      <th>popularity</th>\n",
       "      <th>budget</th>\n",
       "      <th>revenue</th>\n",
       "      <th>original_title</th>\n",
       "      <th>cast</th>\n",
       "      <th>homepage</th>\n",
       "      <th>director</th>\n",
       "      <th>tagline</th>\n",
       "      <th>...</th>\n",
       "      <th>overview</th>\n",
       "      <th>runtime</th>\n",
       "      <th>genres</th>\n",
       "      <th>production_companies</th>\n",
       "      <th>release_date</th>\n",
       "      <th>vote_count</th>\n",
       "      <th>vote_average</th>\n",
       "      <th>release_year</th>\n",
       "      <th>budget_adj</th>\n",
       "      <th>revenue_adj</th>\n",
       "    </tr>\n",
       "  </thead>\n",
       "  <tbody>\n",
       "    <tr>\n",
       "      <td>0</td>\n",
       "      <td>135397</td>\n",
       "      <td>tt0369610</td>\n",
       "      <td>32.985763</td>\n",
       "      <td>150000000</td>\n",
       "      <td>1513528810</td>\n",
       "      <td>Jurassic World</td>\n",
       "      <td>Chris Pratt|Bryce Dallas Howard|Irrfan Khan|Vi...</td>\n",
       "      <td>http://www.jurassicworld.com/</td>\n",
       "      <td>Colin Trevorrow</td>\n",
       "      <td>The park is open.</td>\n",
       "      <td>...</td>\n",
       "      <td>Twenty-two years after the events of Jurassic ...</td>\n",
       "      <td>124</td>\n",
       "      <td>Action|Adventure|Science Fiction|Thriller</td>\n",
       "      <td>Universal Studios|Amblin Entertainment|Legenda...</td>\n",
       "      <td>6/9/15</td>\n",
       "      <td>5562</td>\n",
       "      <td>6.5</td>\n",
       "      <td>2015</td>\n",
       "      <td>1.379999e+08</td>\n",
       "      <td>1.392446e+09</td>\n",
       "    </tr>\n",
       "    <tr>\n",
       "      <td>1</td>\n",
       "      <td>76341</td>\n",
       "      <td>tt1392190</td>\n",
       "      <td>28.419936</td>\n",
       "      <td>150000000</td>\n",
       "      <td>378436354</td>\n",
       "      <td>Mad Max: Fury Road</td>\n",
       "      <td>Tom Hardy|Charlize Theron|Hugh Keays-Byrne|Nic...</td>\n",
       "      <td>http://www.madmaxmovie.com/</td>\n",
       "      <td>George Miller</td>\n",
       "      <td>What a Lovely Day.</td>\n",
       "      <td>...</td>\n",
       "      <td>An apocalyptic story set in the furthest reach...</td>\n",
       "      <td>120</td>\n",
       "      <td>Action|Adventure|Science Fiction|Thriller</td>\n",
       "      <td>Village Roadshow Pictures|Kennedy Miller Produ...</td>\n",
       "      <td>5/13/15</td>\n",
       "      <td>6185</td>\n",
       "      <td>7.1</td>\n",
       "      <td>2015</td>\n",
       "      <td>1.379999e+08</td>\n",
       "      <td>3.481613e+08</td>\n",
       "    </tr>\n",
       "    <tr>\n",
       "      <td>2</td>\n",
       "      <td>262500</td>\n",
       "      <td>tt2908446</td>\n",
       "      <td>13.112507</td>\n",
       "      <td>110000000</td>\n",
       "      <td>295238201</td>\n",
       "      <td>Insurgent</td>\n",
       "      <td>Shailene Woodley|Theo James|Kate Winslet|Ansel...</td>\n",
       "      <td>http://www.thedivergentseries.movie/#insurgent</td>\n",
       "      <td>Robert Schwentke</td>\n",
       "      <td>One Choice Can Destroy You</td>\n",
       "      <td>...</td>\n",
       "      <td>Beatrice Prior must confront her inner demons ...</td>\n",
       "      <td>119</td>\n",
       "      <td>Adventure|Science Fiction|Thriller</td>\n",
       "      <td>Summit Entertainment|Mandeville Films|Red Wago...</td>\n",
       "      <td>3/18/15</td>\n",
       "      <td>2480</td>\n",
       "      <td>6.3</td>\n",
       "      <td>2015</td>\n",
       "      <td>1.012000e+08</td>\n",
       "      <td>2.716190e+08</td>\n",
       "    </tr>\n",
       "    <tr>\n",
       "      <td>3</td>\n",
       "      <td>140607</td>\n",
       "      <td>tt2488496</td>\n",
       "      <td>11.173104</td>\n",
       "      <td>200000000</td>\n",
       "      <td>2068178225</td>\n",
       "      <td>Star Wars: The Force Awakens</td>\n",
       "      <td>Harrison Ford|Mark Hamill|Carrie Fisher|Adam D...</td>\n",
       "      <td>http://www.starwars.com/films/star-wars-episod...</td>\n",
       "      <td>J.J. Abrams</td>\n",
       "      <td>Every generation has a story.</td>\n",
       "      <td>...</td>\n",
       "      <td>Thirty years after defeating the Galactic Empi...</td>\n",
       "      <td>136</td>\n",
       "      <td>Action|Adventure|Science Fiction|Fantasy</td>\n",
       "      <td>Lucasfilm|Truenorth Productions|Bad Robot</td>\n",
       "      <td>12/15/15</td>\n",
       "      <td>5292</td>\n",
       "      <td>7.5</td>\n",
       "      <td>2015</td>\n",
       "      <td>1.839999e+08</td>\n",
       "      <td>1.902723e+09</td>\n",
       "    </tr>\n",
       "    <tr>\n",
       "      <td>4</td>\n",
       "      <td>168259</td>\n",
       "      <td>tt2820852</td>\n",
       "      <td>9.335014</td>\n",
       "      <td>190000000</td>\n",
       "      <td>1506249360</td>\n",
       "      <td>Furious 7</td>\n",
       "      <td>Vin Diesel|Paul Walker|Jason Statham|Michelle ...</td>\n",
       "      <td>http://www.furious7.com/</td>\n",
       "      <td>James Wan</td>\n",
       "      <td>Vengeance Hits Home</td>\n",
       "      <td>...</td>\n",
       "      <td>Deckard Shaw seeks revenge against Dominic Tor...</td>\n",
       "      <td>137</td>\n",
       "      <td>Action|Crime|Thriller</td>\n",
       "      <td>Universal Pictures|Original Film|Media Rights ...</td>\n",
       "      <td>4/1/15</td>\n",
       "      <td>2947</td>\n",
       "      <td>7.3</td>\n",
       "      <td>2015</td>\n",
       "      <td>1.747999e+08</td>\n",
       "      <td>1.385749e+09</td>\n",
       "    </tr>\n",
       "  </tbody>\n",
       "</table>\n",
       "<p>5 rows × 21 columns</p>\n",
       "</div>"
      ],
      "text/plain": [
       "       id    imdb_id  popularity     budget     revenue  \\\n",
       "0  135397  tt0369610   32.985763  150000000  1513528810   \n",
       "1   76341  tt1392190   28.419936  150000000   378436354   \n",
       "2  262500  tt2908446   13.112507  110000000   295238201   \n",
       "3  140607  tt2488496   11.173104  200000000  2068178225   \n",
       "4  168259  tt2820852    9.335014  190000000  1506249360   \n",
       "\n",
       "                 original_title  \\\n",
       "0                Jurassic World   \n",
       "1            Mad Max: Fury Road   \n",
       "2                     Insurgent   \n",
       "3  Star Wars: The Force Awakens   \n",
       "4                     Furious 7   \n",
       "\n",
       "                                                cast  \\\n",
       "0  Chris Pratt|Bryce Dallas Howard|Irrfan Khan|Vi...   \n",
       "1  Tom Hardy|Charlize Theron|Hugh Keays-Byrne|Nic...   \n",
       "2  Shailene Woodley|Theo James|Kate Winslet|Ansel...   \n",
       "3  Harrison Ford|Mark Hamill|Carrie Fisher|Adam D...   \n",
       "4  Vin Diesel|Paul Walker|Jason Statham|Michelle ...   \n",
       "\n",
       "                                            homepage          director  \\\n",
       "0                      http://www.jurassicworld.com/   Colin Trevorrow   \n",
       "1                        http://www.madmaxmovie.com/     George Miller   \n",
       "2     http://www.thedivergentseries.movie/#insurgent  Robert Schwentke   \n",
       "3  http://www.starwars.com/films/star-wars-episod...       J.J. Abrams   \n",
       "4                           http://www.furious7.com/         James Wan   \n",
       "\n",
       "                         tagline  ...  \\\n",
       "0              The park is open.  ...   \n",
       "1             What a Lovely Day.  ...   \n",
       "2     One Choice Can Destroy You  ...   \n",
       "3  Every generation has a story.  ...   \n",
       "4            Vengeance Hits Home  ...   \n",
       "\n",
       "                                            overview runtime  \\\n",
       "0  Twenty-two years after the events of Jurassic ...     124   \n",
       "1  An apocalyptic story set in the furthest reach...     120   \n",
       "2  Beatrice Prior must confront her inner demons ...     119   \n",
       "3  Thirty years after defeating the Galactic Empi...     136   \n",
       "4  Deckard Shaw seeks revenge against Dominic Tor...     137   \n",
       "\n",
       "                                      genres  \\\n",
       "0  Action|Adventure|Science Fiction|Thriller   \n",
       "1  Action|Adventure|Science Fiction|Thriller   \n",
       "2         Adventure|Science Fiction|Thriller   \n",
       "3   Action|Adventure|Science Fiction|Fantasy   \n",
       "4                      Action|Crime|Thriller   \n",
       "\n",
       "                                production_companies release_date vote_count  \\\n",
       "0  Universal Studios|Amblin Entertainment|Legenda...       6/9/15       5562   \n",
       "1  Village Roadshow Pictures|Kennedy Miller Produ...      5/13/15       6185   \n",
       "2  Summit Entertainment|Mandeville Films|Red Wago...      3/18/15       2480   \n",
       "3          Lucasfilm|Truenorth Productions|Bad Robot     12/15/15       5292   \n",
       "4  Universal Pictures|Original Film|Media Rights ...       4/1/15       2947   \n",
       "\n",
       "   vote_average  release_year    budget_adj   revenue_adj  \n",
       "0           6.5          2015  1.379999e+08  1.392446e+09  \n",
       "1           7.1          2015  1.379999e+08  3.481613e+08  \n",
       "2           6.3          2015  1.012000e+08  2.716190e+08  \n",
       "3           7.5          2015  1.839999e+08  1.902723e+09  \n",
       "4           7.3          2015  1.747999e+08  1.385749e+09  \n",
       "\n",
       "[5 rows x 21 columns]"
      ]
     },
     "execution_count": 7,
     "metadata": {},
     "output_type": "execute_result"
    }
   ],
   "source": [
    "import pandas as pd\n",
    "import numpy as np\n",
    "import matplotlib.pyplot as plt\n",
    "%matplotlib inline\n",
    "import seaborn as sns\n",
    "\n",
    "imdb = pd.read_csv(r'C:\\Users\\Nandhitha\\Desktop\\udacity\\project2\\movies.csv')\n",
    "imdb.head(5)"
   ]
  },
  {
   "cell_type": "code",
   "execution_count": 8,
   "metadata": {},
   "outputs": [
    {
     "data": {
      "text/plain": [
       "(10866, 21)"
      ]
     },
     "execution_count": 8,
     "metadata": {},
     "output_type": "execute_result"
    }
   ],
   "source": [
    "imdb.shape"
   ]
  },
  {
   "cell_type": "code",
   "execution_count": 9,
   "metadata": {},
   "outputs": [
    {
     "data": {
      "text/plain": [
       "Index(['id', 'imdb_id', 'popularity', 'budget', 'revenue', 'original_title',\n",
       "       'cast', 'homepage', 'director', 'tagline', 'keywords', 'overview',\n",
       "       'runtime', 'genres', 'production_companies', 'release_date',\n",
       "       'vote_count', 'vote_average', 'release_year', 'budget_adj',\n",
       "       'revenue_adj'],\n",
       "      dtype='object')"
      ]
     },
     "execution_count": 9,
     "metadata": {},
     "output_type": "execute_result"
    }
   ],
   "source": [
    "imdb.columns"
   ]
  },
  {
   "cell_type": "code",
   "execution_count": 10,
   "metadata": {},
   "outputs": [
    {
     "name": "stdout",
     "output_type": "stream",
     "text": [
      "<class 'pandas.core.frame.DataFrame'>\n",
      "RangeIndex: 10866 entries, 0 to 10865\n",
      "Data columns (total 21 columns):\n",
      "id                      10866 non-null int64\n",
      "imdb_id                 10856 non-null object\n",
      "popularity              10866 non-null float64\n",
      "budget                  10866 non-null int64\n",
      "revenue                 10866 non-null int64\n",
      "original_title          10866 non-null object\n",
      "cast                    10790 non-null object\n",
      "homepage                2936 non-null object\n",
      "director                10822 non-null object\n",
      "tagline                 8042 non-null object\n",
      "keywords                9373 non-null object\n",
      "overview                10862 non-null object\n",
      "runtime                 10866 non-null int64\n",
      "genres                  10843 non-null object\n",
      "production_companies    9836 non-null object\n",
      "release_date            10866 non-null object\n",
      "vote_count              10866 non-null int64\n",
      "vote_average            10866 non-null float64\n",
      "release_year            10866 non-null int64\n",
      "budget_adj              10866 non-null float64\n",
      "revenue_adj             10866 non-null float64\n",
      "dtypes: float64(4), int64(6), object(11)\n",
      "memory usage: 1.7+ MB\n"
     ]
    }
   ],
   "source": [
    "imdb.info()"
   ]
  },
  {
   "cell_type": "code",
   "execution_count": 11,
   "metadata": {},
   "outputs": [
    {
     "data": {
      "text/plain": [
       "1"
      ]
     },
     "execution_count": 11,
     "metadata": {},
     "output_type": "execute_result"
    }
   ],
   "source": [
    "imdb.duplicated().sum()"
   ]
  },
  {
   "cell_type": "code",
   "execution_count": 12,
   "metadata": {},
   "outputs": [
    {
     "data": {
      "text/plain": [
       "id                      10865\n",
       "imdb_id                 10855\n",
       "popularity              10814\n",
       "budget                    557\n",
       "revenue                  4702\n",
       "original_title          10571\n",
       "cast                    10719\n",
       "homepage                 2896\n",
       "director                 5067\n",
       "tagline                  7997\n",
       "keywords                 8804\n",
       "overview                10847\n",
       "runtime                   247\n",
       "genres                   2039\n",
       "production_companies     7445\n",
       "release_date             5909\n",
       "vote_count               1289\n",
       "vote_average               72\n",
       "release_year               56\n",
       "budget_adj               2614\n",
       "revenue_adj              4840\n",
       "dtype: int64"
      ]
     },
     "execution_count": 12,
     "metadata": {},
     "output_type": "execute_result"
    }
   ],
   "source": [
    "imdb.nunique()"
   ]
  },
  {
   "cell_type": "markdown",
   "metadata": {},
   "source": [
    "### **WHAT CAN WE SAY ABOUT THE DATASET ?**\n",
    "* This IMDB Movie dataset contains a total of 10866 rows and 21 columns with relevant information about the movies, its making expenditure, the movie success measures.\n",
    "\n",
    "\n",
    "* We can see that that there are many unwanted columns in our dataset. So will remove those columns.\n",
    "\n",
    "\n",
    "* We can also see that our dataset has some missing values and duplicatesd values, So we have to clean and correct them appropriately inorder to proceed with our queries. \n",
    "\n",
    "\n",
    "* For the columns 'budget', 'revenue', we are not specified the currency type, So for this dataset we can assume it to be dollars, taking the origin of cast members into consideration. \n",
    "\n",
    "\n",
    "* We also note that the 'release_date' column is of object type, so we have to change it to appropriate date format."
   ]
  },
  {
   "cell_type": "markdown",
   "metadata": {},
   "source": [
    "### **DATA CLEANING:**\n",
    "List of data cleaning tasks that has to be done before we proceed to analyse the data:\n",
    "\n",
    "* Remove columns that are not needed for the analysis, such as the imdb_id, budget, revenue, homepage, keywords, overview. Budget and revenue can be removed as will be using the budget adjusted and revenue adjusted columns.\n",
    "\n",
    "\n",
    "* Drop duplicated rows, keeping only its first appearance.\n",
    "\n",
    "\n",
    "* Drop the rows where the budget or revenue adjusted value is equal to 0 or not filled.\n",
    "\n",
    "\n",
    "* Drop the row that have no genre type mentioned and production companies information.\n",
    "\n",
    "\n",
    "* Covert the datatype of 'budget_adj' and 'revenue_adj' from float to int.\n",
    "\n",
    "\n",
    "* Rename the necessary columns to ensure comfortable working with tha data.\n",
    "\n",
    "\n",
    "* Change the release_date into datetime datatype."
   ]
  },
  {
   "cell_type": "code",
   "execution_count": 13,
   "metadata": {},
   "outputs": [],
   "source": [
    "imdb.drop(['imdb_id', 'budget', 'revenue', 'homepage', 'keywords', 'overview', 'director','tagline'], axis=1, inplace=True)"
   ]
  },
  {
   "cell_type": "code",
   "execution_count": 15,
   "metadata": {},
   "outputs": [],
   "source": [
    "imdb.drop_duplicates(inplace=True)"
   ]
  },
  {
   "cell_type": "code",
   "execution_count": 16,
   "metadata": {},
   "outputs": [],
   "source": [
    "imdb.drop(imdb[(imdb.budget_adj == 0)].index, inplace=True)"
   ]
  },
  {
   "cell_type": "code",
   "execution_count": 17,
   "metadata": {},
   "outputs": [],
   "source": [
    "imdb.dropna(inplace=True, subset=['genres', 'production_companies'])"
   ]
  },
  {
   "cell_type": "code",
   "execution_count": 20,
   "metadata": {},
   "outputs": [],
   "source": [
    "cols = ['budget_adj', 'revenue_adj']\n",
    "imdb[cols] = imdb[cols].applymap(np.int64)"
   ]
  },
  {
   "cell_type": "code",
   "execution_count": 21,
   "metadata": {},
   "outputs": [
    {
     "name": "stdout",
     "output_type": "stream",
     "text": [
      "<class 'pandas.core.frame.DataFrame'>\n",
      "Int64Index: 5032 entries, 0 to 10865\n",
      "Data columns (total 13 columns):\n",
      "id                      5032 non-null int64\n",
      "popularity              5032 non-null float64\n",
      "original_title          5032 non-null object\n",
      "cast                    5024 non-null object\n",
      "runtime                 5032 non-null int64\n",
      "genres                  5032 non-null object\n",
      "production_companies    5032 non-null object\n",
      "release_date            5032 non-null object\n",
      "vote_count              5032 non-null int64\n",
      "vote_average            5032 non-null float64\n",
      "release_year            5032 non-null int64\n",
      "budget_adj              5032 non-null int64\n",
      "revenue_adj             5032 non-null int64\n",
      "dtypes: float64(2), int64(6), object(5)\n",
      "memory usage: 550.4+ KB\n"
     ]
    }
   ],
   "source": [
    "imdb.info()"
   ]
  },
  {
   "cell_type": "code",
   "execution_count": 22,
   "metadata": {},
   "outputs": [],
   "source": [
    "imdb.rename(columns = {'budget_adj' : 'budget_in_$', 'revenue_adj' : 'revenue_in_$'}, inplace = True)"
   ]
  },
  {
   "cell_type": "code",
   "execution_count": 24,
   "metadata": {},
   "outputs": [],
   "source": [
    "imdb['release_date'] = pd.to_datetime(imdb['release_date'], format='%m/%d/%y')"
   ]
  },
  {
   "cell_type": "code",
   "execution_count": 25,
   "metadata": {},
   "outputs": [],
   "source": [
    "imdb['runtime'] = imdb['runtime'].replace(0, np.NaN)"
   ]
  },
  {
   "cell_type": "code",
   "execution_count": 26,
   "metadata": {},
   "outputs": [
    {
     "data": {
      "text/html": [
       "<div>\n",
       "<style scoped>\n",
       "    .dataframe tbody tr th:only-of-type {\n",
       "        vertical-align: middle;\n",
       "    }\n",
       "\n",
       "    .dataframe tbody tr th {\n",
       "        vertical-align: top;\n",
       "    }\n",
       "\n",
       "    .dataframe thead th {\n",
       "        text-align: right;\n",
       "    }\n",
       "</style>\n",
       "<table border=\"1\" class=\"dataframe\">\n",
       "  <thead>\n",
       "    <tr style=\"text-align: right;\">\n",
       "      <th></th>\n",
       "      <th>id</th>\n",
       "      <th>popularity</th>\n",
       "      <th>original_title</th>\n",
       "      <th>cast</th>\n",
       "      <th>runtime</th>\n",
       "      <th>genres</th>\n",
       "      <th>production_companies</th>\n",
       "      <th>release_date</th>\n",
       "      <th>vote_count</th>\n",
       "      <th>vote_average</th>\n",
       "      <th>release_year</th>\n",
       "      <th>budget_in_$</th>\n",
       "      <th>revenue_in_$</th>\n",
       "    </tr>\n",
       "  </thead>\n",
       "  <tbody>\n",
       "    <tr>\n",
       "      <td>0</td>\n",
       "      <td>135397</td>\n",
       "      <td>32.985763</td>\n",
       "      <td>Jurassic World</td>\n",
       "      <td>Chris Pratt|Bryce Dallas Howard|Irrfan Khan|Vi...</td>\n",
       "      <td>124.0</td>\n",
       "      <td>Action|Adventure|Science Fiction|Thriller</td>\n",
       "      <td>Universal Studios|Amblin Entertainment|Legenda...</td>\n",
       "      <td>2015-06-09</td>\n",
       "      <td>5562</td>\n",
       "      <td>6.5</td>\n",
       "      <td>2015</td>\n",
       "      <td>137999939</td>\n",
       "      <td>1392445892</td>\n",
       "    </tr>\n",
       "    <tr>\n",
       "      <td>1</td>\n",
       "      <td>76341</td>\n",
       "      <td>28.419936</td>\n",
       "      <td>Mad Max: Fury Road</td>\n",
       "      <td>Tom Hardy|Charlize Theron|Hugh Keays-Byrne|Nic...</td>\n",
       "      <td>120.0</td>\n",
       "      <td>Action|Adventure|Science Fiction|Thriller</td>\n",
       "      <td>Village Roadshow Pictures|Kennedy Miller Produ...</td>\n",
       "      <td>2015-05-13</td>\n",
       "      <td>6185</td>\n",
       "      <td>7.1</td>\n",
       "      <td>2015</td>\n",
       "      <td>137999939</td>\n",
       "      <td>348161292</td>\n",
       "    </tr>\n",
       "    <tr>\n",
       "      <td>2</td>\n",
       "      <td>262500</td>\n",
       "      <td>13.112507</td>\n",
       "      <td>Insurgent</td>\n",
       "      <td>Shailene Woodley|Theo James|Kate Winslet|Ansel...</td>\n",
       "      <td>119.0</td>\n",
       "      <td>Adventure|Science Fiction|Thriller</td>\n",
       "      <td>Summit Entertainment|Mandeville Films|Red Wago...</td>\n",
       "      <td>2015-03-18</td>\n",
       "      <td>2480</td>\n",
       "      <td>6.3</td>\n",
       "      <td>2015</td>\n",
       "      <td>101199955</td>\n",
       "      <td>271619025</td>\n",
       "    </tr>\n",
       "    <tr>\n",
       "      <td>3</td>\n",
       "      <td>140607</td>\n",
       "      <td>11.173104</td>\n",
       "      <td>Star Wars: The Force Awakens</td>\n",
       "      <td>Harrison Ford|Mark Hamill|Carrie Fisher|Adam D...</td>\n",
       "      <td>136.0</td>\n",
       "      <td>Action|Adventure|Science Fiction|Fantasy</td>\n",
       "      <td>Lucasfilm|Truenorth Productions|Bad Robot</td>\n",
       "      <td>2015-12-15</td>\n",
       "      <td>5292</td>\n",
       "      <td>7.5</td>\n",
       "      <td>2015</td>\n",
       "      <td>183999919</td>\n",
       "      <td>1902723129</td>\n",
       "    </tr>\n",
       "    <tr>\n",
       "      <td>4</td>\n",
       "      <td>168259</td>\n",
       "      <td>9.335014</td>\n",
       "      <td>Furious 7</td>\n",
       "      <td>Vin Diesel|Paul Walker|Jason Statham|Michelle ...</td>\n",
       "      <td>137.0</td>\n",
       "      <td>Action|Crime|Thriller</td>\n",
       "      <td>Universal Pictures|Original Film|Media Rights ...</td>\n",
       "      <td>2015-04-01</td>\n",
       "      <td>2947</td>\n",
       "      <td>7.3</td>\n",
       "      <td>2015</td>\n",
       "      <td>174799923</td>\n",
       "      <td>1385748801</td>\n",
       "    </tr>\n",
       "  </tbody>\n",
       "</table>\n",
       "</div>"
      ],
      "text/plain": [
       "       id  popularity                original_title  \\\n",
       "0  135397   32.985763                Jurassic World   \n",
       "1   76341   28.419936            Mad Max: Fury Road   \n",
       "2  262500   13.112507                     Insurgent   \n",
       "3  140607   11.173104  Star Wars: The Force Awakens   \n",
       "4  168259    9.335014                     Furious 7   \n",
       "\n",
       "                                                cast  runtime  \\\n",
       "0  Chris Pratt|Bryce Dallas Howard|Irrfan Khan|Vi...    124.0   \n",
       "1  Tom Hardy|Charlize Theron|Hugh Keays-Byrne|Nic...    120.0   \n",
       "2  Shailene Woodley|Theo James|Kate Winslet|Ansel...    119.0   \n",
       "3  Harrison Ford|Mark Hamill|Carrie Fisher|Adam D...    136.0   \n",
       "4  Vin Diesel|Paul Walker|Jason Statham|Michelle ...    137.0   \n",
       "\n",
       "                                      genres  \\\n",
       "0  Action|Adventure|Science Fiction|Thriller   \n",
       "1  Action|Adventure|Science Fiction|Thriller   \n",
       "2         Adventure|Science Fiction|Thriller   \n",
       "3   Action|Adventure|Science Fiction|Fantasy   \n",
       "4                      Action|Crime|Thriller   \n",
       "\n",
       "                                production_companies release_date  vote_count  \\\n",
       "0  Universal Studios|Amblin Entertainment|Legenda...   2015-06-09        5562   \n",
       "1  Village Roadshow Pictures|Kennedy Miller Produ...   2015-05-13        6185   \n",
       "2  Summit Entertainment|Mandeville Films|Red Wago...   2015-03-18        2480   \n",
       "3          Lucasfilm|Truenorth Productions|Bad Robot   2015-12-15        5292   \n",
       "4  Universal Pictures|Original Film|Media Rights ...   2015-04-01        2947   \n",
       "\n",
       "   vote_average  release_year  budget_in_$  revenue_in_$  \n",
       "0           6.5          2015    137999939    1392445892  \n",
       "1           7.1          2015    137999939     348161292  \n",
       "2           6.3          2015    101199955     271619025  \n",
       "3           7.5          2015    183999919    1902723129  \n",
       "4           7.3          2015    174799923    1385748801  "
      ]
     },
     "execution_count": 26,
     "metadata": {},
     "output_type": "execute_result"
    }
   ],
   "source": [
    "imdb.head()"
   ]
  },
  {
   "cell_type": "markdown",
   "metadata": {},
   "source": [
    "### **QUESTIONS TO START WITH:**\n",
    "* What is the most popular genre with which movies are made?\n",
    "\n",
    "\n",
    "* How many movies ended up in profit? And how many were in loss?? \n",
    "\n",
    "\n",
    "* Does the budget or the release date/year or the popularity or the runtime or the vote average or the combination of all influence the movie's outcome?"
   ]
  },
  {
   "cell_type": "code",
   "execution_count": 79,
   "metadata": {},
   "outputs": [],
   "source": [
    "genresList = imdb['genres'].str.split('|')\n",
    "genres = []\n",
    "for i in genresList:\n",
    "    genres.extend(i)"
   ]
  },
  {
   "cell_type": "code",
   "execution_count": 80,
   "metadata": {},
   "outputs": [
    {
     "data": {
      "image/png": "[encoded data removed]",
      "text/plain": [
       "<Figure size 720x432 with 1 Axes>"
      ]
     },
     "metadata": {
      "needs_background": "light"
     },
     "output_type": "display_data"
    }
   ],
   "source": [
    "plt.subplots(figsize=(10,6))\n",
    "pd.Series(genres).value_counts()[:10].plot.bar(color=sns.color_palette('coolwarm',50))\n",
    "plt.ylabel('Count',size=15)\n",
    "plt.xlabel('Genre',size=15)\n",
    "plt.title('TOP POPULAR GENRES',size=20)\n",
    "plt.show()"
   ]
  },
  {
   "cell_type": "code",
   "execution_count": 51,
   "metadata": {},
   "outputs": [],
   "source": [
    "imdb['profit_in_$'] = imdb['revenue_in_$'] - imdb['budget_in_$']"
   ]
  },
  {
   "cell_type": "code",
   "execution_count": 76,
   "metadata": {},
   "outputs": [
    {
     "data": {
      "text/plain": [
       "2275"
      ]
     },
     "execution_count": 76,
     "metadata": {},
     "output_type": "execute_result"
    }
   ],
   "source": [
    "loss = (imdb['profit_in_$'] <= 0).sum()"
   ]
  },
  {
   "cell_type": "code",
   "execution_count": 77,
   "metadata": {},
   "outputs": [
    {
     "data": {
      "text/plain": [
       "2757"
      ]
     },
     "execution_count": 77,
     "metadata": {},
     "output_type": "execute_result"
    }
   ],
   "source": [
    "profit = (imdb['profit_in_$'] > 0).sum()"
   ]
  },
  {
   "cell_type": "markdown",
   "metadata": {},
   "source": [
    "### **FINDINGS:**\n",
    "* From the graph, we find that 'Drama' is the most popular genre of movie making followed by 'Comedy', 'Thriller', 'Action' genres.\n",
    "\n",
    "\n",
    "* We have found that 2757 movies were able to make profit from the movie whereas 2275 movies ended up in loss."
   ]
  },
  {
   "cell_type": "code",
   "execution_count": 94,
   "metadata": {},
   "outputs": [
    {
     "data": {
      "image/png": "[encoded data removed]",
      "text/plain": [
       "<Figure size 432x288 with 1 Axes>"
      ]
     },
     "metadata": {
      "needs_background": "light"
     },
     "output_type": "display_data"
    }
   ],
   "source": [
    "imdb.plot.scatter(x='budget_in_$', y='profit_in_$', title='BUDGET VS PROFIT', color='blue');"
   ]
  },
  {
   "cell_type": "code",
   "execution_count": 96,
   "metadata": {},
   "outputs": [
    {
     "data": {
      "image/png": "[encoded data removed]",
      "text/plain": [
       "<Figure size 432x288 with 1 Axes>"
      ]
     },
     "metadata": {
      "needs_background": "light"
     },
     "output_type": "display_data"
    }
   ],
   "source": [
    "imdb.plot.scatter(x='release_year', y='profit_in_$', title='RELEASE YEAR VS PROFIT',color='green');"
   ]
  },
  {
   "cell_type": "code",
   "execution_count": 88,
   "metadata": {},
   "outputs": [
    {
     "data": {
      "image/png": "[encoded data removed]",
      "text/plain": [
       "<Figure size 432x288 with 1 Axes>"
      ]
     },
     "metadata": {
      "needs_background": "light"
     },
     "output_type": "display_data"
    }
   ],
   "source": [
    "mean_profit_per_year = imdb.groupby('release_year').mean()['profit_in_$']\n",
    "mean_profit_per_year.plot(title='AVERAGE PROFIT PER YEAR')\n",
    "plt.xlabel('Release Year')\n",
    "plt.ylabel('Average Profit');"
   ]
  },
  {
   "cell_type": "code",
   "execution_count": 99,
   "metadata": {},
   "outputs": [
    {
     "data": {
      "image/png": "[encoded data removed]",
      "text/plain": [
       "<Figure size 432x288 with 1 Axes>"
      ]
     },
     "metadata": {
      "needs_background": "light"
     },
     "output_type": "display_data"
    }
   ],
   "source": [
    "imdb.plot.scatter(x='popularity', y='profit_in_$', title='POPULARITY VS PROFIT', color='red');"
   ]
  },
  {
   "cell_type": "code",
   "execution_count": 100,
   "metadata": {},
   "outputs": [
    {
     "data": {
      "text/plain": [
       "<matplotlib.axes._subplots.AxesSubplot at 0x2516741b3c8>"
      ]
     },
     "execution_count": 100,
     "metadata": {},
     "output_type": "execute_result"
    },
    {
     "data": {
      "image/png": "[encoded data removed]",
      "text/plain": [
       "<Figure size 432x288 with 1 Axes>"
      ]
     },
     "metadata": {
      "needs_background": "light"
     },
     "output_type": "display_data"
    }
   ],
   "source": [
    "imdb.plot.scatter(x='runtime', y='profit_in_$', title='RUNTIME VS PROFIT', color='grey')"
   ]
  },
  {
   "cell_type": "markdown",
   "metadata": {},
   "source": [
    "### **FINDINGS:**\n",
    "* **Budget vs Profit:** The plots shows an idea about the range of the budget that is used to make a film, however the plot does not show any strong correlation between profit and adjusted budget. Ignoring the outliers, we can note that there seems to be a trend that when there is decrease in profit, the budget increase, however, the correlation is weak.\n",
    "\n",
    "\n",
    "* **Release Year vs Profit:** From the scatter plot, we cannot find any meaningful insights as there are a number of outliers. Hence, the average profit per release year is found and plotted. We can note from this plot that the highest peak turns to be around 1970-1980, so that period of time has seen a lot of profit from movies. After that it seems that the profit faced a fall.\n",
    "\n",
    "\n",
    "* **Popularity vs Profit:** The plot clearly portrays that popularity has a weak positive correlation towards profit. We also note that there are many outliers in the datset.\n",
    "\n",
    "\n",
    "* **Runtime vs Profit**: From the scatter plot, we can notice that the average runtime for most of the movies does not exceed beyond 200 minutes."
   ]
  },
  {
   "cell_type": "markdown",
   "metadata": {},
   "source": [
    "### **FEW MORE QUESTIONS:**\n",
    "* Is it possible to visualize the ratio of high budget movies to low budgets?\n",
    "\n",
    "\n",
    "* What will be the number of latest movies included in the dataset?\n",
    "\n",
    "\n",
    "* Who might be the most popular or frequently casted actor?\n",
    "\n",
    "\n",
    "* Which movie made the highest profit? Which movie made the lowest profit out of all?"
   ]
  },
  {
   "cell_type": "code",
   "execution_count": 101,
   "metadata": {},
   "outputs": [
    {
     "data": {
      "text/html": [
       "<div>\n",
       "<style scoped>\n",
       "    .dataframe tbody tr th:only-of-type {\n",
       "        vertical-align: middle;\n",
       "    }\n",
       "\n",
       "    .dataframe tbody tr th {\n",
       "        vertical-align: top;\n",
       "    }\n",
       "\n",
       "    .dataframe thead th {\n",
       "        text-align: right;\n",
       "    }\n",
       "</style>\n",
       "<table border=\"1\" class=\"dataframe\">\n",
       "  <thead>\n",
       "    <tr style=\"text-align: right;\">\n",
       "      <th></th>\n",
       "      <th>id</th>\n",
       "      <th>popularity</th>\n",
       "      <th>runtime</th>\n",
       "      <th>vote_count</th>\n",
       "      <th>vote_average</th>\n",
       "      <th>release_year</th>\n",
       "      <th>budget_in_$</th>\n",
       "      <th>revenue_in_$</th>\n",
       "      <th>profit_in_$</th>\n",
       "    </tr>\n",
       "  </thead>\n",
       "  <tbody>\n",
       "    <tr>\n",
       "      <td>count</td>\n",
       "      <td>5032.000000</td>\n",
       "      <td>5032.000000</td>\n",
       "      <td>5031.000000</td>\n",
       "      <td>5032.000000</td>\n",
       "      <td>5032.000000</td>\n",
       "      <td>5032.000000</td>\n",
       "      <td>5.032000e+03</td>\n",
       "      <td>5.032000e+03</td>\n",
       "      <td>5.032000e+03</td>\n",
       "    </tr>\n",
       "    <tr>\n",
       "      <td>mean</td>\n",
       "      <td>45154.733903</td>\n",
       "      <td>1.012798</td>\n",
       "      <td>107.492745</td>\n",
       "      <td>419.128975</td>\n",
       "      <td>6.044495</td>\n",
       "      <td>2001.139308</td>\n",
       "      <td>3.771077e+07</td>\n",
       "      <td>1.048937e+08</td>\n",
       "      <td>6.718297e+07</td>\n",
       "    </tr>\n",
       "    <tr>\n",
       "      <td>std</td>\n",
       "      <td>72681.461023</td>\n",
       "      <td>1.341126</td>\n",
       "      <td>22.453927</td>\n",
       "      <td>796.367720</td>\n",
       "      <td>0.868036</td>\n",
       "      <td>11.848320</td>\n",
       "      <td>4.219562e+07</td>\n",
       "      <td>1.978682e+08</td>\n",
       "      <td>1.763396e+08</td>\n",
       "    </tr>\n",
       "    <tr>\n",
       "      <td>min</td>\n",
       "      <td>5.000000</td>\n",
       "      <td>0.002514</td>\n",
       "      <td>4.000000</td>\n",
       "      <td>10.000000</td>\n",
       "      <td>1.500000</td>\n",
       "      <td>1960.000000</td>\n",
       "      <td>0.000000e+00</td>\n",
       "      <td>0.000000e+00</td>\n",
       "      <td>-4.139124e+08</td>\n",
       "    </tr>\n",
       "    <tr>\n",
       "      <td>25%</td>\n",
       "      <td>8637.000000</td>\n",
       "      <td>0.360704</td>\n",
       "      <td>94.000000</td>\n",
       "      <td>39.000000</td>\n",
       "      <td>5.500000</td>\n",
       "      <td>1995.000000</td>\n",
       "      <td>8.818733e+06</td>\n",
       "      <td>3.155750e+03</td>\n",
       "      <td>-8.005555e+06</td>\n",
       "    </tr>\n",
       "    <tr>\n",
       "      <td>50%</td>\n",
       "      <td>12538.500000</td>\n",
       "      <td>0.640843</td>\n",
       "      <td>103.000000</td>\n",
       "      <td>130.000000</td>\n",
       "      <td>6.100000</td>\n",
       "      <td>2004.000000</td>\n",
       "      <td>2.370705e+07</td>\n",
       "      <td>3.115261e+07</td>\n",
       "      <td>4.669758e+06</td>\n",
       "    </tr>\n",
       "    <tr>\n",
       "      <td>75%</td>\n",
       "      <td>44579.000000</td>\n",
       "      <td>1.177048</td>\n",
       "      <td>117.000000</td>\n",
       "      <td>415.000000</td>\n",
       "      <td>6.600000</td>\n",
       "      <td>2010.000000</td>\n",
       "      <td>5.071437e+07</td>\n",
       "      <td>1.166568e+08</td>\n",
       "      <td>7.144782e+07</td>\n",
       "    </tr>\n",
       "    <tr>\n",
       "      <td>max</td>\n",
       "      <td>417859.000000</td>\n",
       "      <td>32.985763</td>\n",
       "      <td>540.000000</td>\n",
       "      <td>9767.000000</td>\n",
       "      <td>8.400000</td>\n",
       "      <td>2015.000000</td>\n",
       "      <td>4.250000e+08</td>\n",
       "      <td>2.827124e+09</td>\n",
       "      <td>2.750137e+09</td>\n",
       "    </tr>\n",
       "  </tbody>\n",
       "</table>\n",
       "</div>"
      ],
      "text/plain": [
       "                  id   popularity      runtime   vote_count  vote_average  \\\n",
       "count    5032.000000  5032.000000  5031.000000  5032.000000   5032.000000   \n",
       "mean    45154.733903     1.012798   107.492745   419.128975      6.044495   \n",
       "std     72681.461023     1.341126    22.453927   796.367720      0.868036   \n",
       "min         5.000000     0.002514     4.000000    10.000000      1.500000   \n",
       "25%      8637.000000     0.360704    94.000000    39.000000      5.500000   \n",
       "50%     12538.500000     0.640843   103.000000   130.000000      6.100000   \n",
       "75%     44579.000000     1.177048   117.000000   415.000000      6.600000   \n",
       "max    417859.000000    32.985763   540.000000  9767.000000      8.400000   \n",
       "\n",
       "       release_year   budget_in_$  revenue_in_$   profit_in_$  \n",
       "count   5032.000000  5.032000e+03  5.032000e+03  5.032000e+03  \n",
       "mean    2001.139308  3.771077e+07  1.048937e+08  6.718297e+07  \n",
       "std       11.848320  4.219562e+07  1.978682e+08  1.763396e+08  \n",
       "min     1960.000000  0.000000e+00  0.000000e+00 -4.139124e+08  \n",
       "25%     1995.000000  8.818733e+06  3.155750e+03 -8.005555e+06  \n",
       "50%     2004.000000  2.370705e+07  3.115261e+07  4.669758e+06  \n",
       "75%     2010.000000  5.071437e+07  1.166568e+08  7.144782e+07  \n",
       "max     2015.000000  4.250000e+08  2.827124e+09  2.750137e+09  "
      ]
     },
     "execution_count": 101,
     "metadata": {},
     "output_type": "execute_result"
    }
   ],
   "source": [
    "imdb.describe()"
   ]
  },
  {
   "cell_type": "code",
   "execution_count": 107,
   "metadata": {},
   "outputs": [],
   "source": [
    "bin_edges = [0,20000000,420000000]\n",
    "bin_names = ['low budget', 'high budget']\n",
    "imdb['low_high'] = pd.cut(imdb['budget_in_$'], bin_edges, labels=bin_names)"
   ]
  },
  {
   "cell_type": "code",
   "execution_count": 108,
   "metadata": {},
   "outputs": [
    {
     "data": {
      "text/plain": [
       "high budget    2784\n",
       "low budget     2245\n",
       "Name: low_high, dtype: int64"
      ]
     },
     "execution_count": 108,
     "metadata": {},
     "output_type": "execute_result"
    }
   ],
   "source": [
    "low_high_ratio = imdb.low_high.value_counts()\n",
    "low_high_ratio"
   ]
  },
  {
   "cell_type": "code",
   "execution_count": 110,
   "metadata": {},
   "outputs": [
    {
     "data": {
      "image/png": "[encoded data removed]",
      "text/plain": [
       "<Figure size 432x288 with 1 Axes>"
      ]
     },
     "metadata": {
      "needs_background": "light"
     },
     "output_type": "display_data"
    }
   ],
   "source": [
    "low_high_ratio.plot(kind='bar', color='pink', title='NUMBER OF MOVIES WITH HIFG BUDGET AND LOW BUDGET');"
   ]
  },
  {
   "cell_type": "code",
   "execution_count": 122,
   "metadata": {},
   "outputs": [],
   "source": [
    "bin_edges = [1960,1995,2004,2015]\n",
    "bin_names = ['classic old','middle age','latest']\n",
    "imdb['period_of_movie'] = pd.cut(imdb['release_year'], bin_edges, labels=bin_names)"
   ]
  },
  {
   "cell_type": "code",
   "execution_count": 125,
   "metadata": {},
   "outputs": [
    {
     "data": {
      "text/plain": [
       "latest         2511\n",
       "classic old    1264\n",
       "middle age     1248\n",
       "Name: period_of_movie, dtype: int64"
      ]
     },
     "execution_count": 125,
     "metadata": {},
     "output_type": "execute_result"
    }
   ],
   "source": [
    "period_of_movie = imdb.period_of_movie.value_counts()\n",
    "period_of_movie"
   ]
  },
  {
   "cell_type": "code",
   "execution_count": 115,
   "metadata": {},
   "outputs": [
    {
     "data": {
      "image/png": "[encoded data removed]",
      "text/plain": [
       "<Figure size 432x288 with 1 Axes>"
      ]
     },
     "metadata": {
      "needs_background": "light"
     },
     "output_type": "display_data"
    }
   ],
   "source": [
    "period_of_movie.plot(kind='bar', color='yellow', title='PERIOD OF THE MOVIE : OLD, MIDDLE, LATEST');"
   ]
  },
  {
   "cell_type": "markdown",
   "metadata": {},
   "source": [
    "### **FINDINGS:**\n",
    "* Among the movies data, we have found that there are 2278 movies produced at high budget and 2245 movies produced at low budget. \n",
    "\n",
    "\n",
    "* We have found that the dataset consists of more number of latest movie information. There are 2511 latest movies, 1248 middle age movies and 1264 classic old movies."
   ]
  },
  {
   "cell_type": "code",
   "execution_count": 127,
   "metadata": {},
   "outputs": [
    {
     "data": {
      "text/plain": [
       "Tom Cruise            29\n",
       "Tom Hanks             25\n",
       "Brad Pitt             25\n",
       "Robert De Niro        23\n",
       "Sylvester Stallone    21\n",
       "Cameron Diaz          21\n",
       "Denzel Washington     20\n",
       "Eddie Murphy          20\n",
       "Jim Carrey            20\n",
       "Adam Sandler          19\n",
       "dtype: int64"
      ]
     },
     "execution_count": 127,
     "metadata": {},
     "output_type": "execute_result"
    }
   ],
   "source": [
    "profit_movie = imdb[imdb['profit_in_$'] >= 50000000]\n",
    "profit_movie.index = range(len(profit_movie))\n",
    "profit_movie.index = profit_movie.index + 1\n",
    "\n",
    "imdb_data = profit_movie['genres'].str.cat(sep = '|')\n",
    "imdb_data = pd.Series(imdb_data.split('|'))\n",
    "\n",
    "imdb_data = profit_movie['cast'].str.cat(sep = '|')\n",
    "imdb_data = pd.Series(imdb_data.split('|'))\n",
    "cast_count = imdb_data.value_counts(ascending = False)\n",
    "\n",
    "cast_count.head(10)"
   ]
  },
  {
   "cell_type": "code",
   "execution_count": 120,
   "metadata": {},
   "outputs": [
    {
     "data": {
      "text/plain": [
       "id                                                                     11\n",
       "popularity                                                        12.0379\n",
       "original_title                                                  Star Wars\n",
       "cast                    Mark Hamill|Harrison Ford|Carrie Fisher|Peter ...\n",
       "runtime                                                               121\n",
       "genres                                   Adventure|Action|Science Fiction\n",
       "production_companies     Lucasfilm|Twentieth Century Fox Film Corporation\n",
       "release_date                                          1977-03-20 00:00:00\n",
       "vote_count                                                           4428\n",
       "vote_average                                                          7.9\n",
       "release_year                                                         1977\n",
       "budget_in_$                                                      39575591\n",
       "revenue_in_$                                                   2789712242\n",
       "profit_in_$                                                    2750136651\n",
       "low_high                                                      high budget\n",
       "period_of_movie                                               classic old\n",
       "Name: 1329, dtype: object"
      ]
     },
     "execution_count": 120,
     "metadata": {},
     "output_type": "execute_result"
    }
   ],
   "source": [
    "highest_profit=imdb['profit_in_$'].idxmax()\n",
    "imdb.loc[highest_profit]"
   ]
  },
  {
   "cell_type": "code",
   "execution_count": 121,
   "metadata": {},
   "outputs": [
    {
     "data": {
      "text/plain": [
       "id                                                                  46528\n",
       "popularity                                                        0.25054\n",
       "original_title                                          The Warrior's Way\n",
       "cast                    Kate Bosworth|Jang Dong-gun|Geoffrey Rush|Dann...\n",
       "runtime                                                               100\n",
       "genres                          Adventure|Fantasy|Action|Western|Thriller\n",
       "production_companies                             Boram Entertainment Inc.\n",
       "release_date                                          2010-12-02 00:00:00\n",
       "vote_count                                                             74\n",
       "vote_average                                                          6.4\n",
       "release_year                                                         2010\n",
       "budget_in_$                                                     425000000\n",
       "revenue_in_$                                                     11087569\n",
       "profit_in_$                                                    -413912431\n",
       "low_high                                                              NaN\n",
       "period_of_movie                                                    latest\n",
       "Name: 2244, dtype: object"
      ]
     },
     "execution_count": 121,
     "metadata": {},
     "output_type": "execute_result"
    }
   ],
   "source": [
    "lowest_profit=imdb['profit_in_$'].idxmin()\n",
    "imdb.loc[lowest_profit]"
   ]
  },
  {
   "cell_type": "markdown",
   "metadata": {},
   "source": [
    "### **FINDINGS:**\n",
    "* With no surprise, we find that 'Tom Cruise' is the actor who has done his part in more number of movies, followed by the actors 'Tom Hanks' ,'Brad Pitt' and others.\n",
    "\n",
    "\n",
    "* The movie that yielded the highest profit is found to be 'Star Wars' that has yielded a profit of nearly 2.75 billion casting Mark Hamill, Harrison Ford, Carrie Fisher, Peter and others which was released in the year 1977.\n",
    "\n",
    "\n",
    "* The movie that yielded the lowest profit is found to be 'The Warrior's Way' that went in loss for nearly 400 billion casting Kate Bosworth, Jang Dong-gun, Geoffrey Rush, Dann and others which was released in the year 2010."
   ]
  },
  {
   "cell_type": "markdown",
   "metadata": {},
   "source": [
    "# CONCLUSION:\n",
    "**1. What is the most popular genre with which movies are made?**\n",
    "\n",
    "The most popular genre is 'DRAMA' followed by 'COMEDY'.\n",
    "\n",
    "\n",
    "\n",
    "**2. How many movies ended up in profit? And how many were in loss?**\n",
    "\n",
    "2757 movies make profit whereas 2275 movies ended in loss.\n",
    "\n",
    "\n",
    "\n",
    "**3. Does the budget or the release date/year or the popularity or the runtime or the vote average or the combination of all influence the movie's outcome?**\n",
    "\n",
    "From the plots and visuals, we can infer the below:\n",
    "    * It is not always true that higher the budget of the movie, the more profit it will make.\n",
    "    * It also seems to us that popularity does not affect the profit much.\n",
    "    * The movies released during 1970 and 1980 are noted to contibute more money.\n",
    "    * Most of the movie duration is less than 200 minutes. Moreover, it is the runtime duration for which the movies made more money.\n",
    "\n",
    "\n",
    "\n",
    "**4. Is it possible to visualize the ratio of high budget movies to low budgets?**\n",
    "\n",
    "Yes, after visualization we have found that 2278 movies were produced at high budget and 2245 movies were produced at low budget\n",
    "\n",
    "\n",
    "\n",
    "**5. What will be the number of latest movies included in the dataset?**\n",
    "\n",
    "There are 2511 latest movies, 1248 middle age movies and 1264 classic old movies.\n",
    "\n",
    "\n",
    "\n",
    "**6. Who might be the most popular or frequently casted actor?**\n",
    "\n",
    "'Tom Cruise' is the actor who has done his part in more number of movies, followed by the actors 'Tom Hanks'.\n",
    "\n",
    "\n",
    "\n",
    "\n",
    "**7. Which movie made the highest profit? Which movie made the lowest profit out of all?**\n",
    "\n",
    "Movie with highest profit is found to be 'Star Wars' and movie with lowest profit is found to be 'The Warrior's Way'.\n"
   ]
  },
  {
   "cell_type": "markdown",
   "metadata": {},
   "source": [
    "# THANKYOU :)  \n",
    "## I hope my analysis provided you with some useful insights and understandings!"
   ]
  }
 ],
 "metadata": {
  "kernelspec": {
   "display_name": "Python 3",
   "language": "python",
   "name": "python3"
  },
  "language_info": {
   "codemirror_mode": {
    "name": "ipython",
    "version": 3
   },
   "file_extension": ".py",
   "mimetype": "text/x-python",
   "name": "python",
   "nbconvert_exporter": "python",
   "pygments_lexer": "ipython3",
   "version": "3.7.4"
  }
 },
 "nbformat": 4,
 "nbformat_minor": 2
}
