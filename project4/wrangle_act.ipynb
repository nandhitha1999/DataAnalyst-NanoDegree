{
 "cells": [
  {
   "cell_type": "markdown",
   "metadata": {},
   "source": [
    "# WRANGLE AND ANALYSE DATA "
   ]
  },
  {
   "cell_type": "code",
   "execution_count": 3,
   "metadata": {},
   "outputs": [],
   "source": [
    "import datetime as dt\n",
    "import json\n",
    "import numpy as np\n",
    "import pandas as pd\n",
    "import re\n",
    "import requests\n",
    "import tweepy"
   ]
  },
  {
   "cell_type": "markdown",
   "metadata": {},
   "source": [
    "## 1. Gathering Data"
   ]
  },
  {
   "cell_type": "code",
   "execution_count": 4,
   "metadata": {},
   "outputs": [
    {
     "data": {
      "text/html": [
       "<div>\n",
       "<style>\n",
       "    .dataframe thead tr:only-child th {\n",
       "        text-align: right;\n",
       "    }\n",
       "\n",
       "    .dataframe thead th {\n",
       "        text-align: left;\n",
       "    }\n",
       "\n",
       "    .dataframe tbody tr th {\n",
       "        vertical-align: top;\n",
       "    }\n",
       "</style>\n",
       "<table border=\"1\" class=\"dataframe\">\n",
       "  <thead>\n",
       "    <tr style=\"text-align: right;\">\n",
       "      <th></th>\n",
       "      <th>in_reply_to_status_id</th>\n",
       "      <th>in_reply_to_user_id</th>\n",
       "      <th>timestamp</th>\n",
       "      <th>source</th>\n",
       "      <th>text</th>\n",
       "      <th>retweeted_status_id</th>\n",
       "      <th>retweeted_status_user_id</th>\n",
       "      <th>retweeted_status_timestamp</th>\n",
       "      <th>expanded_urls</th>\n",
       "      <th>rating_numerator</th>\n",
       "      <th>rating_denominator</th>\n",
       "      <th>name</th>\n",
       "      <th>doggo</th>\n",
       "      <th>floofer</th>\n",
       "      <th>pupper</th>\n",
       "      <th>puppo</th>\n",
       "    </tr>\n",
       "    <tr>\n",
       "      <th>tweet_id</th>\n",
       "      <th></th>\n",
       "      <th></th>\n",
       "      <th></th>\n",
       "      <th></th>\n",
       "      <th></th>\n",
       "      <th></th>\n",
       "      <th></th>\n",
       "      <th></th>\n",
       "      <th></th>\n",
       "      <th></th>\n",
       "      <th></th>\n",
       "      <th></th>\n",
       "      <th></th>\n",
       "      <th></th>\n",
       "      <th></th>\n",
       "      <th></th>\n",
       "    </tr>\n",
       "  </thead>\n",
       "  <tbody>\n",
       "    <tr>\n",
       "      <th>892420643555336193</th>\n",
       "      <td>NaN</td>\n",
       "      <td>NaN</td>\n",
       "      <td>2017-08-01 16:23:56 +0000</td>\n",
       "      <td>&lt;a href=\"http://twitter.com/download/iphone\" r...</td>\n",
       "      <td>This is Phineas. He's a mystical boy. Only eve...</td>\n",
       "      <td>NaN</td>\n",
       "      <td>NaN</td>\n",
       "      <td>NaN</td>\n",
       "      <td>https://twitter.com/dog_rates/status/892420643...</td>\n",
       "      <td>13</td>\n",
       "      <td>10</td>\n",
       "      <td>Phineas</td>\n",
       "      <td>None</td>\n",
       "      <td>None</td>\n",
       "      <td>None</td>\n",
       "      <td>None</td>\n",
       "    </tr>\n",
       "    <tr>\n",
       "      <th>892177421306343426</th>\n",
       "      <td>NaN</td>\n",
       "      <td>NaN</td>\n",
       "      <td>2017-08-01 00:17:27 +0000</td>\n",
       "      <td>&lt;a href=\"http://twitter.com/download/iphone\" r...</td>\n",
       "      <td>This is Tilly. She's just checking pup on you....</td>\n",
       "      <td>NaN</td>\n",
       "      <td>NaN</td>\n",
       "      <td>NaN</td>\n",
       "      <td>https://twitter.com/dog_rates/status/892177421...</td>\n",
       "      <td>13</td>\n",
       "      <td>10</td>\n",
       "      <td>Tilly</td>\n",
       "      <td>None</td>\n",
       "      <td>None</td>\n",
       "      <td>None</td>\n",
       "      <td>None</td>\n",
       "    </tr>\n",
       "  </tbody>\n",
       "</table>\n",
       "</div>"
      ],
      "text/plain": [
       "                    in_reply_to_status_id  in_reply_to_user_id  \\\n",
       "tweet_id                                                         \n",
       "892420643555336193                    NaN                  NaN   \n",
       "892177421306343426                    NaN                  NaN   \n",
       "\n",
       "                                    timestamp  \\\n",
       "tweet_id                                        \n",
       "892420643555336193  2017-08-01 16:23:56 +0000   \n",
       "892177421306343426  2017-08-01 00:17:27 +0000   \n",
       "\n",
       "                                                               source  \\\n",
       "tweet_id                                                                \n",
       "892420643555336193  <a href=\"http://twitter.com/download/iphone\" r...   \n",
       "892177421306343426  <a href=\"http://twitter.com/download/iphone\" r...   \n",
       "\n",
       "                                                                 text  \\\n",
       "tweet_id                                                                \n",
       "892420643555336193  This is Phineas. He's a mystical boy. Only eve...   \n",
       "892177421306343426  This is Tilly. She's just checking pup on you....   \n",
       "\n",
       "                    retweeted_status_id  retweeted_status_user_id  \\\n",
       "tweet_id                                                            \n",
       "892420643555336193                  NaN                       NaN   \n",
       "892177421306343426                  NaN                       NaN   \n",
       "\n",
       "                   retweeted_status_timestamp  \\\n",
       "tweet_id                                        \n",
       "892420643555336193                        NaN   \n",
       "892177421306343426                        NaN   \n",
       "\n",
       "                                                        expanded_urls  \\\n",
       "tweet_id                                                                \n",
       "892420643555336193  https://twitter.com/dog_rates/status/892420643...   \n",
       "892177421306343426  https://twitter.com/dog_rates/status/892177421...   \n",
       "\n",
       "                    rating_numerator  rating_denominator     name doggo  \\\n",
       "tweet_id                                                                  \n",
       "892420643555336193                13                  10  Phineas  None   \n",
       "892177421306343426                13                  10    Tilly  None   \n",
       "\n",
       "                   floofer pupper puppo  \n",
       "tweet_id                                 \n",
       "892420643555336193    None   None  None  \n",
       "892177421306343426    None   None  None  "
      ]
     },
     "execution_count": 4,
     "metadata": {},
     "output_type": "execute_result"
    }
   ],
   "source": [
    "archive = pd.read_csv(\"twitter-archive-enhanced.csv\")\n",
    "archive.set_index(\"tweet_id\", inplace = True)\n",
    "archive.head(2)"
   ]
  },
  {
   "cell_type": "code",
   "execution_count": 116,
   "metadata": {},
   "outputs": [
    {
     "data": {
      "text/html": [
       "<div>\n",
       "<style>\n",
       "    .dataframe thead tr:only-child th {\n",
       "        text-align: right;\n",
       "    }\n",
       "\n",
       "    .dataframe thead th {\n",
       "        text-align: left;\n",
       "    }\n",
       "\n",
       "    .dataframe tbody tr th {\n",
       "        vertical-align: top;\n",
       "    }\n",
       "</style>\n",
       "<table border=\"1\" class=\"dataframe\">\n",
       "  <thead>\n",
       "    <tr style=\"text-align: right;\">\n",
       "      <th></th>\n",
       "      <th>tweet_id</th>\n",
       "      <th>jpg_url</th>\n",
       "      <th>img_num</th>\n",
       "      <th>p1</th>\n",
       "      <th>p1_conf</th>\n",
       "      <th>p1_dog</th>\n",
       "      <th>p2</th>\n",
       "      <th>p2_conf</th>\n",
       "      <th>p2_dog</th>\n",
       "      <th>p3</th>\n",
       "      <th>p3_conf</th>\n",
       "      <th>p3_dog</th>\n",
       "    </tr>\n",
       "  </thead>\n",
       "  <tbody>\n",
       "    <tr>\n",
       "      <th>0</th>\n",
       "      <td>666020888022790149</td>\n",
       "      <td>https://pbs.twimg.com/media/CT4udn0WwAA0aMy.jpg</td>\n",
       "      <td>1</td>\n",
       "      <td>Welsh_springer_spaniel</td>\n",
       "      <td>0.465074</td>\n",
       "      <td>True</td>\n",
       "      <td>collie</td>\n",
       "      <td>0.156665</td>\n",
       "      <td>True</td>\n",
       "      <td>Shetland_sheepdog</td>\n",
       "      <td>0.061428</td>\n",
       "      <td>True</td>\n",
       "    </tr>\n",
       "    <tr>\n",
       "      <th>1</th>\n",
       "      <td>666029285002620928</td>\n",
       "      <td>https://pbs.twimg.com/media/CT42GRgUYAA5iDo.jpg</td>\n",
       "      <td>1</td>\n",
       "      <td>redbone</td>\n",
       "      <td>0.506826</td>\n",
       "      <td>True</td>\n",
       "      <td>miniature_pinscher</td>\n",
       "      <td>0.074192</td>\n",
       "      <td>True</td>\n",
       "      <td>Rhodesian_ridgeback</td>\n",
       "      <td>0.072010</td>\n",
       "      <td>True</td>\n",
       "    </tr>\n",
       "  </tbody>\n",
       "</table>\n",
       "</div>"
      ],
      "text/plain": [
       "             tweet_id                                          jpg_url  \\\n",
       "0  666020888022790149  https://pbs.twimg.com/media/CT4udn0WwAA0aMy.jpg   \n",
       "1  666029285002620928  https://pbs.twimg.com/media/CT42GRgUYAA5iDo.jpg   \n",
       "\n",
       "   img_num                      p1   p1_conf  p1_dog                  p2  \\\n",
       "0        1  Welsh_springer_spaniel  0.465074    True              collie   \n",
       "1        1                 redbone  0.506826    True  miniature_pinscher   \n",
       "\n",
       "    p2_conf  p2_dog                   p3   p3_conf  p3_dog  \n",
       "0  0.156665    True    Shetland_sheepdog  0.061428    True  \n",
       "1  0.074192    True  Rhodesian_ridgeback  0.072010    True  "
      ]
     },
     "execution_count": 116,
     "metadata": {},
     "output_type": "execute_result"
    }
   ],
   "source": [
    "tsv_url = \"https://d17h27t6h515a5.cloudfront.net/topher/2017/August/599fd2ad_image-predictions/image-predictions.tsv\"\n",
    "r = requests.get(tsv_url)\n",
    "\n",
    "with open(tsv_url.split('/')[-1], mode = 'wb') as file:\n",
    "    file.write(r.content)\n",
    "    \n",
    "images = pd.read_csv('image-predictions.tsv', sep = '\\t')\n",
    "images.head(2)"
   ]
  },
  {
   "cell_type": "code",
   "execution_count": 117,
   "metadata": {},
   "outputs": [],
   "source": [
    "consumer_key = #\n",
    "consumer_secret = #\n",
    "access_token = #\n",
    "access_token_secret = #\n",
    "\n",
    "auth = tweepy.OAuthHandler(consumer_key, consumer_secret)\n",
    "auth.set_access_token(access_token, access_token_secret)\n",
    "\n",
    "api = tweepy.API(auth, parser=tweepy.parsers.JSONParser(), wait_on_rate_limit=True)"
   ]
  },
  {
   "cell_type": "code",
   "execution_count": 118,
   "metadata": {},
   "outputs": [],
   "source": [
    "df = []\n",
    "exceptions = []\n",
    "tweet_id = images['tweet_id']\n",
    "\n",
    "for id in tweet_id:\n",
    "    try:\n",
    "        page = api.get_status(id)\n",
    "        favorites = page['favorite_count']\n",
    "        retweets = page['retweet_count']\n",
    "        time = pd.to_datetime(page['created_at'])\n",
    "        df.append({'tweet_id': int(id),\n",
    "                        'favorites': int(favorites),\n",
    "                        'retweets': int(retweets)})\n",
    "    \n",
    "    except Exception as e:\n",
    "        exceptions.append(id)"
   ]
  },
  {
   "cell_type": "code",
   "execution_count": 119,
   "metadata": {},
   "outputs": [
    {
     "data": {
      "text/plain": [
       "[802247111496568832,\n",
       " 842892208864923648,\n",
       " 861769973181624320,\n",
       " 873697596434513921,\n",
       " 888202515573088257]"
      ]
     },
     "execution_count": 119,
     "metadata": {},
     "output_type": "execute_result"
    }
   ],
   "source": [
    "exceptions"
   ]
  },
  {
   "cell_type": "code",
   "execution_count": 120,
   "metadata": {},
   "outputs": [],
   "source": [
    "exceptions2 = []\n",
    "for e in exceptions:\n",
    "    try:\n",
    "        page = api.get_status(e)\n",
    "        favorites = page['favorite_count']\n",
    "        retweets = page['retweet_count']\n",
    "        time = pd.to_datetime(page['created_at'])\n",
    "        df.append({'tweet_id': int(e),\n",
    "                        'favorites': int(favorites),\n",
    "                        'retweets': int(retweets)})\n",
    "        \n",
    "    except Exception:\n",
    "        exceptions2.append(id)"
   ]
  },
  {
   "cell_type": "code",
   "execution_count": 121,
   "metadata": {},
   "outputs": [],
   "source": [
    "df = pd.DataFrame(df, columns = ['tweet_id', 'favorites', 'retweets'])\n",
    "df.to_csv('tweet_json.txt', encoding = 'utf-8')"
   ]
  },
  {
   "cell_type": "code",
   "execution_count": 122,
   "metadata": {},
   "outputs": [
    {
     "data": {
      "text/html": [
       "<div>\n",
       "<style>\n",
       "    .dataframe thead tr:only-child th {\n",
       "        text-align: right;\n",
       "    }\n",
       "\n",
       "    .dataframe thead th {\n",
       "        text-align: left;\n",
       "    }\n",
       "\n",
       "    .dataframe tbody tr th {\n",
       "        vertical-align: top;\n",
       "    }\n",
       "</style>\n",
       "<table border=\"1\" class=\"dataframe\">\n",
       "  <thead>\n",
       "    <tr style=\"text-align: right;\">\n",
       "      <th></th>\n",
       "      <th>Unnamed: 0</th>\n",
       "      <th>favorites</th>\n",
       "      <th>retweets</th>\n",
       "    </tr>\n",
       "    <tr>\n",
       "      <th>tweet_id</th>\n",
       "      <th></th>\n",
       "      <th></th>\n",
       "      <th></th>\n",
       "    </tr>\n",
       "  </thead>\n",
       "  <tbody>\n",
       "    <tr>\n",
       "      <th>891327558926688256</th>\n",
       "      <td>2065</td>\n",
       "      <td>40779</td>\n",
       "      <td>9634</td>\n",
       "    </tr>\n",
       "    <tr>\n",
       "      <th>891689557279858688</th>\n",
       "      <td>2066</td>\n",
       "      <td>42611</td>\n",
       "      <td>8850</td>\n",
       "    </tr>\n",
       "    <tr>\n",
       "      <th>891815181378084864</th>\n",
       "      <td>2067</td>\n",
       "      <td>25318</td>\n",
       "      <td>4265</td>\n",
       "    </tr>\n",
       "    <tr>\n",
       "      <th>892177421306343426</th>\n",
       "      <td>2068</td>\n",
       "      <td>33609</td>\n",
       "      <td>6422</td>\n",
       "    </tr>\n",
       "    <tr>\n",
       "      <th>892420643555336193</th>\n",
       "      <td>2069</td>\n",
       "      <td>39246</td>\n",
       "      <td>8760</td>\n",
       "    </tr>\n",
       "  </tbody>\n",
       "</table>\n",
       "</div>"
      ],
      "text/plain": [
       "                    Unnamed: 0  favorites  retweets\n",
       "tweet_id                                           \n",
       "891327558926688256        2065      40779      9634\n",
       "891689557279858688        2066      42611      8850\n",
       "891815181378084864        2067      25318      4265\n",
       "892177421306343426        2068      33609      6422\n",
       "892420643555336193        2069      39246      8760"
      ]
     },
     "execution_count": 122,
     "metadata": {},
     "output_type": "execute_result"
    }
   ],
   "source": [
    "df = pd.read_csv('tweet_json.txt', encoding = 'utf-8')\n",
    "df.set_index('tweet_id', inplace = True)\n",
    "df.tail()"
   ]
  },
  {
   "cell_type": "code",
   "execution_count": 123,
   "metadata": {},
   "outputs": [],
   "source": [
    "images.set_index('tweet_id', inplace = True)\n",
    "df2 = pd.merge(left=archive, right=images, left_index=True, right_index=True, how='left')\n",
    "df2 = pd.merge(left=df2, right=df, left_index=True, right_index=True, how='left')\n",
    "df2.to_csv('df2copy.csv', encoding = 'utf-8')"
   ]
  },
  {
   "cell_type": "markdown",
   "metadata": {},
   "source": [
    "## 2. Assessing Data"
   ]
  },
  {
   "cell_type": "code",
   "execution_count": 8,
   "metadata": {},
   "outputs": [
    {
     "name": "stdout",
     "output_type": "stream",
     "text": [
      "<class 'pandas.core.frame.DataFrame'>\n",
      "Int64Index: 2356 entries, 892420643555336193 to 666020888022790149\n",
      "Data columns (total 16 columns):\n",
      "in_reply_to_status_id         78 non-null float64\n",
      "in_reply_to_user_id           78 non-null float64\n",
      "timestamp                     2356 non-null object\n",
      "source                        2356 non-null object\n",
      "text                          2356 non-null object\n",
      "retweeted_status_id           181 non-null float64\n",
      "retweeted_status_user_id      181 non-null float64\n",
      "retweeted_status_timestamp    181 non-null object\n",
      "expanded_urls                 2297 non-null object\n",
      "rating_numerator              2356 non-null int64\n",
      "rating_denominator            2356 non-null int64\n",
      "name                          2356 non-null object\n",
      "doggo                         2356 non-null object\n",
      "floofer                       2356 non-null object\n",
      "pupper                        2356 non-null object\n",
      "puppo                         2356 non-null object\n",
      "dtypes: float64(4), int64(2), object(10)\n",
      "memory usage: 312.9+ KB\n"
     ]
    }
   ],
   "source": [
    "archive.info()"
   ]
  },
  {
   "cell_type": "code",
   "execution_count": 10,
   "metadata": {},
   "outputs": [
    {
     "data": {
      "text/plain": [
       "None         745\n",
       "a             55\n",
       "Charlie       12\n",
       "Cooper        11\n",
       "Oliver        11\n",
       "Lucy          11\n",
       "Penny         10\n",
       "Tucker        10\n",
       "Lola          10\n",
       "Winston        9\n",
       "Bo             9\n",
       "the            8\n",
       "Sadie          8\n",
       "an             7\n",
       "Buddy          7\n",
       "Bailey         7\n",
       "Daisy          7\n",
       "Toby           7\n",
       "Koda           6\n",
       "Jax            6\n",
       "Stanley        6\n",
       "Milo           6\n",
       "Leo            6\n",
       "Oscar          6\n",
       "Dave           6\n",
       "Rusty          6\n",
       "Jack           6\n",
       "Scout          6\n",
       "Bella          6\n",
       "very           5\n",
       "            ... \n",
       "Siba           1\n",
       "Mimosa         1\n",
       "Blipson        1\n",
       "Kevon          1\n",
       "Rumble         1\n",
       "Callie         1\n",
       "Mingus         1\n",
       "Thor           1\n",
       "Laela          1\n",
       "Cheesy         1\n",
       "Toffee         1\n",
       "Bradlay        1\n",
       "Pippin         1\n",
       "Buddah         1\n",
       "Juckson        1\n",
       "Iroh           1\n",
       "Grizzwald      1\n",
       "Dex            1\n",
       "Superpup       1\n",
       "General        1\n",
       "Winifred       1\n",
       "Benny          1\n",
       "Chase          1\n",
       "Bradley        1\n",
       "Hector         1\n",
       "Tobi           1\n",
       "Eevee          1\n",
       "Farfle         1\n",
       "Acro           1\n",
       "such           1\n",
       "Name: name, Length: 957, dtype: int64"
      ]
     },
     "execution_count": 10,
     "metadata": {},
     "output_type": "execute_result"
    }
   ],
   "source": [
    "archive.name.value_counts()"
   ]
  },
  {
   "cell_type": "code",
   "execution_count": 11,
   "metadata": {},
   "outputs": [
    {
     "data": {
      "text/plain": [
       "10     2333\n",
       "11        3\n",
       "50        3\n",
       "80        2\n",
       "20        2\n",
       "2         1\n",
       "16        1\n",
       "40        1\n",
       "70        1\n",
       "15        1\n",
       "90        1\n",
       "110       1\n",
       "120       1\n",
       "130       1\n",
       "150       1\n",
       "170       1\n",
       "7         1\n",
       "0         1\n",
       "Name: rating_denominator, dtype: int64"
      ]
     },
     "execution_count": 11,
     "metadata": {},
     "output_type": "execute_result"
    }
   ],
   "source": [
    "archive.rating_denominator.value_counts()"
   ]
  },
  {
   "cell_type": "code",
   "execution_count": 12,
   "metadata": {},
   "outputs": [
    {
     "data": {
      "text/plain": [
       "12      558\n",
       "11      464\n",
       "10      461\n",
       "13      351\n",
       "9       158\n",
       "8       102\n",
       "7        55\n",
       "14       54\n",
       "5        37\n",
       "6        32\n",
       "3        19\n",
       "4        17\n",
       "1         9\n",
       "2         9\n",
       "420       2\n",
       "0         2\n",
       "15        2\n",
       "75        2\n",
       "80        1\n",
       "20        1\n",
       "24        1\n",
       "26        1\n",
       "44        1\n",
       "50        1\n",
       "60        1\n",
       "165       1\n",
       "84        1\n",
       "88        1\n",
       "144       1\n",
       "182       1\n",
       "143       1\n",
       "666       1\n",
       "960       1\n",
       "1776      1\n",
       "17        1\n",
       "27        1\n",
       "45        1\n",
       "99        1\n",
       "121       1\n",
       "204       1\n",
       "Name: rating_numerator, dtype: int64"
      ]
     },
     "execution_count": 12,
     "metadata": {},
     "output_type": "execute_result"
    }
   ],
   "source": [
    "archive.rating_numerator.value_counts()"
   ]
  },
  {
   "cell_type": "code",
   "execution_count": 13,
   "metadata": {},
   "outputs": [
    {
     "data": {
      "text/html": [
       "<div>\n",
       "<style>\n",
       "    .dataframe thead tr:only-child th {\n",
       "        text-align: right;\n",
       "    }\n",
       "\n",
       "    .dataframe thead th {\n",
       "        text-align: left;\n",
       "    }\n",
       "\n",
       "    .dataframe tbody tr th {\n",
       "        vertical-align: top;\n",
       "    }\n",
       "</style>\n",
       "<table border=\"1\" class=\"dataframe\">\n",
       "  <thead>\n",
       "    <tr style=\"text-align: right;\">\n",
       "      <th></th>\n",
       "      <th>in_reply_to_status_id</th>\n",
       "      <th>in_reply_to_user_id</th>\n",
       "      <th>timestamp</th>\n",
       "      <th>source</th>\n",
       "      <th>text</th>\n",
       "      <th>retweeted_status_id</th>\n",
       "      <th>retweeted_status_user_id</th>\n",
       "      <th>retweeted_status_timestamp</th>\n",
       "      <th>expanded_urls</th>\n",
       "      <th>rating_numerator</th>\n",
       "      <th>rating_denominator</th>\n",
       "      <th>name</th>\n",
       "      <th>doggo</th>\n",
       "      <th>floofer</th>\n",
       "      <th>pupper</th>\n",
       "      <th>puppo</th>\n",
       "    </tr>\n",
       "    <tr>\n",
       "      <th>tweet_id</th>\n",
       "      <th></th>\n",
       "      <th></th>\n",
       "      <th></th>\n",
       "      <th></th>\n",
       "      <th></th>\n",
       "      <th></th>\n",
       "      <th></th>\n",
       "      <th></th>\n",
       "      <th></th>\n",
       "      <th></th>\n",
       "      <th></th>\n",
       "      <th></th>\n",
       "      <th></th>\n",
       "      <th></th>\n",
       "      <th></th>\n",
       "      <th></th>\n",
       "    </tr>\n",
       "  </thead>\n",
       "  <tbody>\n",
       "    <tr>\n",
       "      <th>892420643555336193</th>\n",
       "      <td>NaN</td>\n",
       "      <td>NaN</td>\n",
       "      <td>2017-08-01 16:23:56 +0000</td>\n",
       "      <td>&lt;a href=\"http://twitter.com/download/iphone\" r...</td>\n",
       "      <td>This is Phineas. He's a mystical boy. Only eve...</td>\n",
       "      <td>NaN</td>\n",
       "      <td>NaN</td>\n",
       "      <td>NaN</td>\n",
       "      <td>https://twitter.com/dog_rates/status/892420643...</td>\n",
       "      <td>13</td>\n",
       "      <td>10</td>\n",
       "      <td>Phineas</td>\n",
       "      <td>None</td>\n",
       "      <td>None</td>\n",
       "      <td>None</td>\n",
       "      <td>None</td>\n",
       "    </tr>\n",
       "    <tr>\n",
       "      <th>892177421306343426</th>\n",
       "      <td>NaN</td>\n",
       "      <td>NaN</td>\n",
       "      <td>2017-08-01 00:17:27 +0000</td>\n",
       "      <td>&lt;a href=\"http://twitter.com/download/iphone\" r...</td>\n",
       "      <td>This is Tilly. She's just checking pup on you....</td>\n",
       "      <td>NaN</td>\n",
       "      <td>NaN</td>\n",
       "      <td>NaN</td>\n",
       "      <td>https://twitter.com/dog_rates/status/892177421...</td>\n",
       "      <td>13</td>\n",
       "      <td>10</td>\n",
       "      <td>Tilly</td>\n",
       "      <td>None</td>\n",
       "      <td>None</td>\n",
       "      <td>None</td>\n",
       "      <td>None</td>\n",
       "    </tr>\n",
       "    <tr>\n",
       "      <th>891815181378084864</th>\n",
       "      <td>NaN</td>\n",
       "      <td>NaN</td>\n",
       "      <td>2017-07-31 00:18:03 +0000</td>\n",
       "      <td>&lt;a href=\"http://twitter.com/download/iphone\" r...</td>\n",
       "      <td>This is Archie. He is a rare Norwegian Pouncin...</td>\n",
       "      <td>NaN</td>\n",
       "      <td>NaN</td>\n",
       "      <td>NaN</td>\n",
       "      <td>https://twitter.com/dog_rates/status/891815181...</td>\n",
       "      <td>12</td>\n",
       "      <td>10</td>\n",
       "      <td>Archie</td>\n",
       "      <td>None</td>\n",
       "      <td>None</td>\n",
       "      <td>None</td>\n",
       "      <td>None</td>\n",
       "    </tr>\n",
       "    <tr>\n",
       "      <th>891689557279858688</th>\n",
       "      <td>NaN</td>\n",
       "      <td>NaN</td>\n",
       "      <td>2017-07-30 15:58:51 +0000</td>\n",
       "      <td>&lt;a href=\"http://twitter.com/download/iphone\" r...</td>\n",
       "      <td>This is Darla. She commenced a snooze mid meal...</td>\n",
       "      <td>NaN</td>\n",
       "      <td>NaN</td>\n",
       "      <td>NaN</td>\n",
       "      <td>https://twitter.com/dog_rates/status/891689557...</td>\n",
       "      <td>13</td>\n",
       "      <td>10</td>\n",
       "      <td>Darla</td>\n",
       "      <td>None</td>\n",
       "      <td>None</td>\n",
       "      <td>None</td>\n",
       "      <td>None</td>\n",
       "    </tr>\n",
       "    <tr>\n",
       "      <th>891327558926688256</th>\n",
       "      <td>NaN</td>\n",
       "      <td>NaN</td>\n",
       "      <td>2017-07-29 16:00:24 +0000</td>\n",
       "      <td>&lt;a href=\"http://twitter.com/download/iphone\" r...</td>\n",
       "      <td>This is Franklin. He would like you to stop ca...</td>\n",
       "      <td>NaN</td>\n",
       "      <td>NaN</td>\n",
       "      <td>NaN</td>\n",
       "      <td>https://twitter.com/dog_rates/status/891327558...</td>\n",
       "      <td>12</td>\n",
       "      <td>10</td>\n",
       "      <td>Franklin</td>\n",
       "      <td>None</td>\n",
       "      <td>None</td>\n",
       "      <td>None</td>\n",
       "      <td>None</td>\n",
       "    </tr>\n",
       "  </tbody>\n",
       "</table>\n",
       "</div>"
      ],
      "text/plain": [
       "                    in_reply_to_status_id  in_reply_to_user_id  \\\n",
       "tweet_id                                                         \n",
       "892420643555336193                    NaN                  NaN   \n",
       "892177421306343426                    NaN                  NaN   \n",
       "891815181378084864                    NaN                  NaN   \n",
       "891689557279858688                    NaN                  NaN   \n",
       "891327558926688256                    NaN                  NaN   \n",
       "\n",
       "                                    timestamp  \\\n",
       "tweet_id                                        \n",
       "892420643555336193  2017-08-01 16:23:56 +0000   \n",
       "892177421306343426  2017-08-01 00:17:27 +0000   \n",
       "891815181378084864  2017-07-31 00:18:03 +0000   \n",
       "891689557279858688  2017-07-30 15:58:51 +0000   \n",
       "891327558926688256  2017-07-29 16:00:24 +0000   \n",
       "\n",
       "                                                               source  \\\n",
       "tweet_id                                                                \n",
       "892420643555336193  <a href=\"http://twitter.com/download/iphone\" r...   \n",
       "892177421306343426  <a href=\"http://twitter.com/download/iphone\" r...   \n",
       "891815181378084864  <a href=\"http://twitter.com/download/iphone\" r...   \n",
       "891689557279858688  <a href=\"http://twitter.com/download/iphone\" r...   \n",
       "891327558926688256  <a href=\"http://twitter.com/download/iphone\" r...   \n",
       "\n",
       "                                                                 text  \\\n",
       "tweet_id                                                                \n",
       "892420643555336193  This is Phineas. He's a mystical boy. Only eve...   \n",
       "892177421306343426  This is Tilly. She's just checking pup on you....   \n",
       "891815181378084864  This is Archie. He is a rare Norwegian Pouncin...   \n",
       "891689557279858688  This is Darla. She commenced a snooze mid meal...   \n",
       "891327558926688256  This is Franklin. He would like you to stop ca...   \n",
       "\n",
       "                    retweeted_status_id  retweeted_status_user_id  \\\n",
       "tweet_id                                                            \n",
       "892420643555336193                  NaN                       NaN   \n",
       "892177421306343426                  NaN                       NaN   \n",
       "891815181378084864                  NaN                       NaN   \n",
       "891689557279858688                  NaN                       NaN   \n",
       "891327558926688256                  NaN                       NaN   \n",
       "\n",
       "                   retweeted_status_timestamp  \\\n",
       "tweet_id                                        \n",
       "892420643555336193                        NaN   \n",
       "892177421306343426                        NaN   \n",
       "891815181378084864                        NaN   \n",
       "891689557279858688                        NaN   \n",
       "891327558926688256                        NaN   \n",
       "\n",
       "                                                        expanded_urls  \\\n",
       "tweet_id                                                                \n",
       "892420643555336193  https://twitter.com/dog_rates/status/892420643...   \n",
       "892177421306343426  https://twitter.com/dog_rates/status/892177421...   \n",
       "891815181378084864  https://twitter.com/dog_rates/status/891815181...   \n",
       "891689557279858688  https://twitter.com/dog_rates/status/891689557...   \n",
       "891327558926688256  https://twitter.com/dog_rates/status/891327558...   \n",
       "\n",
       "                    rating_numerator  rating_denominator      name doggo  \\\n",
       "tweet_id                                                                   \n",
       "892420643555336193                13                  10   Phineas  None   \n",
       "892177421306343426                13                  10     Tilly  None   \n",
       "891815181378084864                12                  10    Archie  None   \n",
       "891689557279858688                13                  10     Darla  None   \n",
       "891327558926688256                12                  10  Franklin  None   \n",
       "\n",
       "                   floofer pupper puppo  \n",
       "tweet_id                                 \n",
       "892420643555336193    None   None  None  \n",
       "892177421306343426    None   None  None  \n",
       "891815181378084864    None   None  None  \n",
       "891689557279858688    None   None  None  \n",
       "891327558926688256    None   None  None  "
      ]
     },
     "execution_count": 13,
     "metadata": {},
     "output_type": "execute_result"
    }
   ],
   "source": [
    "archive.head()"
   ]
  },
  {
   "cell_type": "code",
   "execution_count": 9,
   "metadata": {},
   "outputs": [
    {
     "name": "stdout",
     "output_type": "stream",
     "text": [
      "<class 'pandas.core.frame.DataFrame'>\n",
      "RangeIndex: 2075 entries, 0 to 2074\n",
      "Data columns (total 12 columns):\n",
      "tweet_id    2075 non-null int64\n",
      "jpg_url     2075 non-null object\n",
      "img_num     2075 non-null int64\n",
      "p1          2075 non-null object\n",
      "p1_conf     2075 non-null float64\n",
      "p1_dog      2075 non-null bool\n",
      "p2          2075 non-null object\n",
      "p2_conf     2075 non-null float64\n",
      "p2_dog      2075 non-null bool\n",
      "p3          2075 non-null object\n",
      "p3_conf     2075 non-null float64\n",
      "p3_dog      2075 non-null bool\n",
      "dtypes: bool(3), float64(3), int64(2), object(4)\n",
      "memory usage: 152.1+ KB\n"
     ]
    }
   ],
   "source": [
    "images.info()"
   ]
  },
  {
   "cell_type": "code",
   "execution_count": 14,
   "metadata": {},
   "outputs": [
    {
     "name": "stdout",
     "output_type": "stream",
     "text": [
      "<class 'pandas.core.frame.DataFrame'>\n",
      "RangeIndex: 2070 entries, 0 to 2069\n",
      "Data columns (total 4 columns):\n",
      "Unnamed: 0    2070 non-null int64\n",
      "tweet_id      2070 non-null int64\n",
      "favorites     2070 non-null int64\n",
      "retweets      2070 non-null int64\n",
      "dtypes: int64(4)\n",
      "memory usage: 64.8 KB\n"
     ]
    }
   ],
   "source": [
    "tweet = pd.read_csv(\"tweet_json.txt\", encoding = 'utf-8')\n",
    "tweet.info()"
   ]
  },
  {
   "cell_type": "markdown",
   "metadata": {},
   "source": [
    "### Quality\n",
    " \n",
    "1. The ‘name’ column had several entries which did not look like name and We can also find that the most frequent value in the name column is \"a\", which is not a name.\n",
    "\n",
    "\n",
    "2.  Some of the ratings did not seem like right format of ratings.  \n",
    "\n",
    "\n",
    "3. The values in the numerator and denominator columns are unusual. \n",
    "\n",
    "\n",
    "4. There are 2075 rows in the images dataframe and 2356 rows in the archive dataframe. The number of rows in archive data and images data did not match, which has to be wrangled for better analysis.  \n",
    "\n",
    "\n",
    "5. Several columns in the data, null values are treated as non-null values and some entries seem to contain “Nan” value as string.  \n",
    "\n",
    "\n",
    "6. The Unnamed: 0 column is not necessary for data analysis, so it should be removed.  \n",
    "\n",
    "\n",
    "7. The columns for dog breed predictions may be condensed and made into a single column. The dog stages values in the data is named as columns instead of one column containing all the dog stages values. \n",
    "\n",
    "\n",
    "8. For more clarity, we merge the datasets. \n",
    "\n",
    "### Tidiness\n",
    "\n",
    "- The dog stages have values as columns, instead of one column filled with their values.\n",
    "\n",
    "\n",
    "- We don't need the 'Unnamed: 0' column from the 'tweet' dataframe.\n",
    "\n",
    "\n",
    "- The columns for dog breed predictions can be condensed."
   ]
  },
  {
   "cell_type": "markdown",
   "metadata": {},
   "source": [
    "## 3. Cleaning Data"
   ]
  },
  {
   "cell_type": "code",
   "execution_count": 3,
   "metadata": {},
   "outputs": [],
   "source": [
    "df = pd.read_csv(\"df2copy.csv\")"
   ]
  },
  {
   "cell_type": "markdown",
   "metadata": {},
   "source": [
    "### Define: Delete Unnamed column \n",
    "\n",
    "### Code:"
   ]
  },
  {
   "cell_type": "code",
   "execution_count": 14,
   "metadata": {
    "scrolled": true
   },
   "outputs": [],
   "source": [
    "del(df['Unnamed: 0'])"
   ]
  },
  {
   "cell_type": "markdown",
   "metadata": {},
   "source": [
    "### Test:"
   ]
  },
  {
   "cell_type": "code",
   "execution_count": 17,
   "metadata": {},
   "outputs": [
    {
     "data": {
      "text/plain": [
       "Index(['tweet_id', 'in_reply_to_status_id', 'in_reply_to_user_id', 'timestamp',\n",
       "       'source', 'text', 'retweeted_status_id', 'retweeted_status_user_id',\n",
       "       'retweeted_status_timestamp', 'expanded_urls', 'rating_numerator',\n",
       "       'rating_denominator', 'name', 'doggo', 'floofer', 'pupper', 'puppo',\n",
       "       'jpg_url', 'img_num', 'p1', 'p1_conf', 'p1_dog', 'p2', 'p2_conf',\n",
       "       'p2_dog', 'p3', 'p3_conf', 'p3_dog', 'favorites', 'retweets'],\n",
       "      dtype='object')"
      ]
     },
     "execution_count": 17,
     "metadata": {},
     "output_type": "execute_result"
    }
   ],
   "source": [
    "df.columns"
   ]
  },
  {
   "cell_type": "markdown",
   "metadata": {},
   "source": [
    "### Define: Convert timestamp from string object to datetime object\n",
    "### Code:"
   ]
  },
  {
   "cell_type": "code",
   "execution_count": 18,
   "metadata": {},
   "outputs": [],
   "source": [
    "df['timestamp'] = pd.to_datetime(df['timestamp'])"
   ]
  },
  {
   "cell_type": "code",
   "execution_count": 19,
   "metadata": {},
   "outputs": [
    {
     "name": "stdout",
     "output_type": "stream",
     "text": [
      "<class 'pandas.core.frame.DataFrame'>\n",
      "RangeIndex: 2356 entries, 0 to 2355\n",
      "Data columns (total 30 columns):\n",
      "tweet_id                      2356 non-null int64\n",
      "in_reply_to_status_id         78 non-null float64\n",
      "in_reply_to_user_id           78 non-null float64\n",
      "timestamp                     2356 non-null datetime64[ns]\n",
      "source                        2356 non-null object\n",
      "text                          2356 non-null object\n",
      "retweeted_status_id           181 non-null float64\n",
      "retweeted_status_user_id      181 non-null float64\n",
      "retweeted_status_timestamp    181 non-null object\n",
      "expanded_urls                 2297 non-null object\n",
      "rating_numerator              2356 non-null int64\n",
      "rating_denominator            2356 non-null int64\n",
      "name                          2356 non-null object\n",
      "doggo                         2356 non-null object\n",
      "floofer                       2356 non-null object\n",
      "pupper                        2356 non-null object\n",
      "puppo                         2356 non-null object\n",
      "jpg_url                       2075 non-null object\n",
      "img_num                       2075 non-null float64\n",
      "p1                            2075 non-null object\n",
      "p1_conf                       2075 non-null float64\n",
      "p1_dog                        2075 non-null object\n",
      "p2                            2075 non-null object\n",
      "p2_conf                       2075 non-null float64\n",
      "p2_dog                        2075 non-null object\n",
      "p3                            2075 non-null object\n",
      "p3_conf                       2075 non-null float64\n",
      "p3_dog                        2075 non-null object\n",
      "favorites                     2070 non-null float64\n",
      "retweets                      2070 non-null float64\n",
      "dtypes: datetime64[ns](1), float64(10), int64(3), object(16)\n",
      "memory usage: 552.3+ KB\n"
     ]
    }
   ],
   "source": [
    "df.info()"
   ]
  },
  {
   "cell_type": "markdown",
   "metadata": {},
   "source": [
    "### Define: Remove Retweets and Tweets which does not include images\n",
    "\n",
    "### Code:"
   ]
  },
  {
   "cell_type": "code",
   "execution_count": 20,
   "metadata": {},
   "outputs": [],
   "source": [
    "# removing the tweets without images\n",
    "df = df[pd.notnull(df['jpg_url'])]"
   ]
  },
  {
   "cell_type": "code",
   "execution_count": 21,
   "metadata": {},
   "outputs": [
    {
     "data": {
      "text/plain": [
       "1994"
      ]
     },
     "execution_count": 21,
     "metadata": {},
     "output_type": "execute_result"
    }
   ],
   "source": [
    "# removing retweets\n",
    "df = df[pd.isnull(df['retweeted_status_id'])]\n",
    "df.shape[0]"
   ]
  },
  {
   "cell_type": "code",
   "execution_count": 22,
   "metadata": {},
   "outputs": [],
   "source": [
    "df.drop(['retweeted_status_id', 'retweeted_status_user_id', 'retweeted_status_timestamp'], axis = 1, inplace = True)"
   ]
  },
  {
   "cell_type": "markdown",
   "metadata": {},
   "source": [
    "### Test:"
   ]
  },
  {
   "cell_type": "code",
   "execution_count": 23,
   "metadata": {},
   "outputs": [
    {
     "data": {
      "text/plain": [
       "Index(['tweet_id', 'in_reply_to_status_id', 'in_reply_to_user_id', 'timestamp',\n",
       "       'source', 'text', 'expanded_urls', 'rating_numerator',\n",
       "       'rating_denominator', 'name', 'doggo', 'floofer', 'pupper', 'puppo',\n",
       "       'jpg_url', 'img_num', 'p1', 'p1_conf', 'p1_dog', 'p2', 'p2_conf',\n",
       "       'p2_dog', 'p3', 'p3_conf', 'p3_dog', 'favorites', 'retweets'],\n",
       "      dtype='object')"
      ]
     },
     "execution_count": 23,
     "metadata": {},
     "output_type": "execute_result"
    }
   ],
   "source": [
    "df.columns"
   ]
  },
  {
   "cell_type": "markdown",
   "metadata": {},
   "source": [
    "### Define: Condensing Dog Type columns\n",
    "\n",
    "### Code:"
   ]
  },
  {
   "cell_type": "code",
   "execution_count": 24,
   "metadata": {},
   "outputs": [],
   "source": [
    "dog_type = []\n",
    "\n",
    "x = ['pupper', 'puppo', 'doggo', 'floof']\n",
    "y = ['pupper', 'puppo', 'doggo', 'floof']\n",
    "\n",
    "for row in df['text']:\n",
    "    row = row.lower()\n",
    "    for word in x:\n",
    "        if word in str(row):\n",
    "            dog_type.append(y[x.index(word)])\n",
    "            break\n",
    "    else:\n",
    "        dog_type.append('None')\n",
    "\n",
    "df['dog_type'] = dog_type"
   ]
  },
  {
   "cell_type": "code",
   "execution_count": 25,
   "metadata": {},
   "outputs": [
    {
     "data": {
      "text/plain": [
       "None      1625\n",
       "pupper     237\n",
       "doggo       69\n",
       "floof       34\n",
       "puppo       29\n",
       "Name: dog_type, dtype: int64"
      ]
     },
     "execution_count": 25,
     "metadata": {},
     "output_type": "execute_result"
    }
   ],
   "source": [
    "df['dog_type'].value_counts()"
   ]
  },
  {
   "cell_type": "code",
   "execution_count": 26,
   "metadata": {},
   "outputs": [],
   "source": [
    "# removing extra columns\n",
    "df.drop(['doggo', 'floofer', 'pupper', 'puppo'], axis=1, inplace=True)"
   ]
  },
  {
   "cell_type": "markdown",
   "metadata": {},
   "source": [
    "### Test:"
   ]
  },
  {
   "cell_type": "code",
   "execution_count": 27,
   "metadata": {},
   "outputs": [
    {
     "data": {
      "text/plain": [
       "Index(['tweet_id', 'in_reply_to_status_id', 'in_reply_to_user_id', 'timestamp',\n",
       "       'source', 'text', 'expanded_urls', 'rating_numerator',\n",
       "       'rating_denominator', 'name', 'jpg_url', 'img_num', 'p1', 'p1_conf',\n",
       "       'p1_dog', 'p2', 'p2_conf', 'p2_dog', 'p3', 'p3_conf', 'p3_dog',\n",
       "       'favorites', 'retweets', 'dog_type'],\n",
       "      dtype='object')"
      ]
     },
     "execution_count": 27,
     "metadata": {},
     "output_type": "execute_result"
    }
   ],
   "source": [
    "#test\n",
    "df.columns"
   ]
  },
  {
   "cell_type": "markdown",
   "metadata": {},
   "source": [
    "### Define: Condensing dog breed predictions\n",
    "### Code:"
   ]
  },
  {
   "cell_type": "code",
   "execution_count": 29,
   "metadata": {},
   "outputs": [],
   "source": [
    "breed = []\n",
    "conf= []\n",
    "\n",
    "def breed_conf(row):\n",
    "    if row['p1_dog']:\n",
    "        breed.append(row['p1'])\n",
    "        conf.append(row['p1_conf'])\n",
    "    elif row['p2_dog']:\n",
    "        breed.append(row['p2'])\n",
    "        conf.append(row['p2_conf'])\n",
    "    elif row['p3_dog']:\n",
    "        breed.append(row['p3'])\n",
    "        conf.append(row['p3_conf'])\n",
    "    else:\n",
    "        breed.append('Unidentifiable')\n",
    "        conf.append(0)\n",
    "\n",
    "df.apply(breed_conf, axis = 1)\n",
    "\n",
    "df['breed'] = breed\n",
    "df['confidence'] = conf"
   ]
  },
  {
   "cell_type": "code",
   "execution_count": 30,
   "metadata": {},
   "outputs": [],
   "source": [
    "#removing the processed columns\n",
    "df.drop(['p1', 'p1_conf', 'p1_dog', 'p2', 'p2_conf', 'p2_dog', 'p3', 'p3_conf', 'p3_dog',], axis=1, inplace=True)"
   ]
  },
  {
   "cell_type": "markdown",
   "metadata": {},
   "source": [
    "### Test:"
   ]
  },
  {
   "cell_type": "code",
   "execution_count": 31,
   "metadata": {},
   "outputs": [
    {
     "data": {
      "text/html": [
       "<div>\n",
       "<style>\n",
       "    .dataframe thead tr:only-child th {\n",
       "        text-align: right;\n",
       "    }\n",
       "\n",
       "    .dataframe thead th {\n",
       "        text-align: left;\n",
       "    }\n",
       "\n",
       "    .dataframe tbody tr th {\n",
       "        vertical-align: top;\n",
       "    }\n",
       "</style>\n",
       "<table border=\"1\" class=\"dataframe\">\n",
       "  <thead>\n",
       "    <tr style=\"text-align: right;\">\n",
       "      <th></th>\n",
       "      <th>tweet_id</th>\n",
       "      <th>in_reply_to_status_id</th>\n",
       "      <th>in_reply_to_user_id</th>\n",
       "      <th>timestamp</th>\n",
       "      <th>source</th>\n",
       "      <th>text</th>\n",
       "      <th>expanded_urls</th>\n",
       "      <th>rating_numerator</th>\n",
       "      <th>rating_denominator</th>\n",
       "      <th>name</th>\n",
       "      <th>jpg_url</th>\n",
       "      <th>img_num</th>\n",
       "      <th>favorites</th>\n",
       "      <th>retweets</th>\n",
       "      <th>dog_type</th>\n",
       "      <th>breed</th>\n",
       "      <th>confidence</th>\n",
       "    </tr>\n",
       "  </thead>\n",
       "  <tbody>\n",
       "    <tr>\n",
       "      <th>0</th>\n",
       "      <td>892420643555336193</td>\n",
       "      <td>NaN</td>\n",
       "      <td>NaN</td>\n",
       "      <td>2017-08-01 16:23:56</td>\n",
       "      <td>&lt;a href=\"http://twitter.com/download/iphone\" r...</td>\n",
       "      <td>This is Phineas. He's a mystical boy. Only eve...</td>\n",
       "      <td>https://twitter.com/dog_rates/status/892420643...</td>\n",
       "      <td>13</td>\n",
       "      <td>10</td>\n",
       "      <td>Phineas</td>\n",
       "      <td>https://pbs.twimg.com/media/DGKD1-bXoAAIAUK.jpg</td>\n",
       "      <td>1.0</td>\n",
       "      <td>39246.0</td>\n",
       "      <td>8760.0</td>\n",
       "      <td>None</td>\n",
       "      <td>Unidentifiable</td>\n",
       "      <td>0.000000</td>\n",
       "    </tr>\n",
       "    <tr>\n",
       "      <th>1</th>\n",
       "      <td>892177421306343426</td>\n",
       "      <td>NaN</td>\n",
       "      <td>NaN</td>\n",
       "      <td>2017-08-01 00:17:27</td>\n",
       "      <td>&lt;a href=\"http://twitter.com/download/iphone\" r...</td>\n",
       "      <td>This is Tilly. She's just checking pup on you....</td>\n",
       "      <td>https://twitter.com/dog_rates/status/892177421...</td>\n",
       "      <td>13</td>\n",
       "      <td>10</td>\n",
       "      <td>Tilly</td>\n",
       "      <td>https://pbs.twimg.com/media/DGGmoV4XsAAUL6n.jpg</td>\n",
       "      <td>1.0</td>\n",
       "      <td>33609.0</td>\n",
       "      <td>6422.0</td>\n",
       "      <td>None</td>\n",
       "      <td>Chihuahua</td>\n",
       "      <td>0.323581</td>\n",
       "    </tr>\n",
       "  </tbody>\n",
       "</table>\n",
       "</div>"
      ],
      "text/plain": [
       "             tweet_id  in_reply_to_status_id  in_reply_to_user_id  \\\n",
       "0  892420643555336193                    NaN                  NaN   \n",
       "1  892177421306343426                    NaN                  NaN   \n",
       "\n",
       "            timestamp                                             source  \\\n",
       "0 2017-08-01 16:23:56  <a href=\"http://twitter.com/download/iphone\" r...   \n",
       "1 2017-08-01 00:17:27  <a href=\"http://twitter.com/download/iphone\" r...   \n",
       "\n",
       "                                                text  \\\n",
       "0  This is Phineas. He's a mystical boy. Only eve...   \n",
       "1  This is Tilly. She's just checking pup on you....   \n",
       "\n",
       "                                       expanded_urls  rating_numerator  \\\n",
       "0  https://twitter.com/dog_rates/status/892420643...                13   \n",
       "1  https://twitter.com/dog_rates/status/892177421...                13   \n",
       "\n",
       "   rating_denominator     name  \\\n",
       "0                  10  Phineas   \n",
       "1                  10    Tilly   \n",
       "\n",
       "                                           jpg_url  img_num  favorites  \\\n",
       "0  https://pbs.twimg.com/media/DGKD1-bXoAAIAUK.jpg      1.0    39246.0   \n",
       "1  https://pbs.twimg.com/media/DGGmoV4XsAAUL6n.jpg      1.0    33609.0   \n",
       "\n",
       "   retweets dog_type           breed  confidence  \n",
       "0    8760.0     None  Unidentifiable    0.000000  \n",
       "1    6422.0     None       Chihuahua    0.323581  "
      ]
     },
     "execution_count": 31,
     "metadata": {},
     "output_type": "execute_result"
    }
   ],
   "source": [
    "df.head(2)"
   ]
  },
  {
   "cell_type": "markdown",
   "metadata": {},
   "source": [
    "### Define: Removing columns that are not necessary\n",
    "### Code:"
   ]
  },
  {
   "cell_type": "code",
   "execution_count": 32,
   "metadata": {},
   "outputs": [
    {
     "data": {
      "text/plain": [
       "6.671522e+17    2\n",
       "8.558181e+17    1\n",
       "6.753494e+17    1\n",
       "6.747934e+17    1\n",
       "6.747522e+17    1\n",
       "7.468859e+17    1\n",
       "6.706684e+17    1\n",
       "6.844811e+17    1\n",
       "6.749998e+17    1\n",
       "6.842229e+17    1\n",
       "7.291135e+17    1\n",
       "6.754971e+17    1\n",
       "6.717299e+17    1\n",
       "6.715610e+17    1\n",
       "7.030419e+17    1\n",
       "6.757073e+17    1\n",
       "7.590995e+17    1\n",
       "6.914169e+17    1\n",
       "7.032559e+17    1\n",
       "6.678065e+17    1\n",
       "6.920419e+17    1\n",
       "7.331095e+17    1\n",
       "Name: in_reply_to_status_id, dtype: int64"
      ]
     },
     "execution_count": 32,
     "metadata": {},
     "output_type": "execute_result"
    }
   ],
   "source": [
    "df['in_reply_to_status_id'].value_counts()"
   ]
  },
  {
   "cell_type": "code",
   "execution_count": 33,
   "metadata": {},
   "outputs": [
    {
     "data": {
      "text/plain": [
       "4.196984e+09    23\n",
       "Name: in_reply_to_user_id, dtype: int64"
      ]
     },
     "execution_count": 33,
     "metadata": {},
     "output_type": "execute_result"
    }
   ],
   "source": [
    "df['in_reply_to_user_id'].value_counts()"
   ]
  },
  {
   "cell_type": "markdown",
   "metadata": {},
   "source": [
    "These all reply to a single user id, i.e., @dog_rates"
   ]
  },
  {
   "cell_type": "code",
   "execution_count": 34,
   "metadata": {},
   "outputs": [],
   "source": [
    "df.drop(['in_reply_to_status_id', 'in_reply_to_user_id'], axis=1, inplace=True)"
   ]
  },
  {
   "cell_type": "markdown",
   "metadata": {},
   "source": [
    "### Test:"
   ]
  },
  {
   "cell_type": "code",
   "execution_count": 35,
   "metadata": {},
   "outputs": [
    {
     "data": {
      "text/plain": [
       "Index(['tweet_id', 'timestamp', 'source', 'text', 'expanded_urls',\n",
       "       'rating_numerator', 'rating_denominator', 'name', 'jpg_url', 'img_num',\n",
       "       'favorites', 'retweets', 'dog_type', 'breed', 'confidence'],\n",
       "      dtype='object')"
      ]
     },
     "execution_count": 35,
     "metadata": {},
     "output_type": "execute_result"
    }
   ],
   "source": [
    "df.columns"
   ]
  },
  {
   "cell_type": "markdown",
   "metadata": {},
   "source": [
    "### Define: Extract Dog Rates and Dog Count\n",
    "### Code:"
   ]
  },
  {
   "cell_type": "code",
   "execution_count": 36,
   "metadata": {
    "scrolled": true
   },
   "outputs": [
    {
     "data": {
      "text/plain": [
       "12.0                 453\n",
       "10.0                 411\n",
       "11.0                 399\n",
       "13.0                 261\n",
       "9.0                  152\n",
       "8.0                   94\n",
       "7.0                   52\n",
       "14.0                  36\n",
       "6.0                   32\n",
       "5.0                   30\n",
       "3.0                   19\n",
       "4.0                   14\n",
       "2.0                    9\n",
       "8.5                    4\n",
       "1.0                    4\n",
       "7.5                    3\n",
       "9.5                    3\n",
       "5.5                    2\n",
       "6.5                    2\n",
       "10.5                   2\n",
       "0.0                    2\n",
       "1776.0                 1\n",
       "9.75                   1\n",
       "9.666666666666666      1\n",
       "4.5                    1\n",
       "11.27                  1\n",
       "13.5                   1\n",
       "NaN                    1\n",
       "420.0                  1\n",
       "11.5                   1\n",
       "11.26                  1\n",
       "Name: rating, dtype: int64"
      ]
     },
     "execution_count": 36,
     "metadata": {},
     "output_type": "execute_result"
    }
   ],
   "source": [
    "rates = []\n",
    "\n",
    "#raw_rates = lambda x: rates.append(re.findall(r'(\\d+(\\.\\d+)|(\\d+))\\/(\\d+0)', x, flags=0))\n",
    "\n",
    "df['text'].apply(lambda x: rates.append(re.findall(r'(\\d+(\\.\\d+)|(\\d+))\\/(\\d+0)', x, flags=0)))\n",
    "\n",
    "rating = []\n",
    "dog_count = []\n",
    "\n",
    "for item in rates:\n",
    "    \n",
    "    # for tweets with no rating, but a picture, so a dog_count of 1\n",
    "    if len(item) == 0:\n",
    "        rating.append('NaN')\n",
    "        dog_count.append(1)\n",
    "        \n",
    "    # for tweets with single rating and dog_count of 1\n",
    "    elif len(item) == 1 and item[0][-1] == '10':\n",
    "        rating.append(float(item[0][0]))\n",
    "        dog_count.append(1)\n",
    "   \n",
    "    # for multiple ratings\n",
    "    elif len(item) == 1: \n",
    "        a = float(item[0][0]) / (float(item[0][-1]) / 10) \n",
    "        rating.append(a)\n",
    "        dog_count.append(float(item[0][-1]) / 10)\n",
    "   \n",
    "    # for tweets with more than one rating\n",
    "    elif len(item) > 1: \n",
    "        total = 0\n",
    "        r = []\n",
    "        for i in range(len(item)):\n",
    "            if item[i][-1] == '10': #one tweet has the phrase '50/50' so I'm coding to exclude it\n",
    "                r.append(item[i])\n",
    "        for rate in r:\n",
    "            total = total + float(rate[0])\n",
    "        a = total / len(item)\n",
    "        rating.append(a)\n",
    "        dog_count.append(len(item))\n",
    "   \n",
    "    # if any error has occurred\n",
    "    else:\n",
    "        rating.append('Not parsed')\n",
    "        dog_count.append('Not parsed') \n",
    "        \n",
    "df['rating'] = rating # not need to also add denominator since they are all 10!\n",
    "df['dog_count'] = dog_count\n",
    "df['rating'].value_counts()"
   ]
  },
  {
   "cell_type": "code",
   "execution_count": 37,
   "metadata": {},
   "outputs": [],
   "source": [
    "df.drop(['rating_numerator', 'rating_denominator'], axis=1, inplace=True)"
   ]
  },
  {
   "cell_type": "markdown",
   "metadata": {},
   "source": [
    "### Test:"
   ]
  },
  {
   "cell_type": "code",
   "execution_count": 38,
   "metadata": {},
   "outputs": [
    {
     "name": "stdout",
     "output_type": "stream",
     "text": [
      "<class 'pandas.core.frame.DataFrame'>\n",
      "Int64Index: 1994 entries, 0 to 2355\n",
      "Data columns (total 15 columns):\n",
      "tweet_id         1994 non-null int64\n",
      "timestamp        1994 non-null datetime64[ns]\n",
      "source           1994 non-null object\n",
      "text             1994 non-null object\n",
      "expanded_urls    1994 non-null object\n",
      "name             1994 non-null object\n",
      "jpg_url          1994 non-null object\n",
      "img_num          1994 non-null float64\n",
      "favorites        1994 non-null float64\n",
      "retweets         1994 non-null float64\n",
      "dog_type         1994 non-null object\n",
      "breed            1994 non-null object\n",
      "confidence       1994 non-null float64\n",
      "rating           1994 non-null object\n",
      "dog_count        1994 non-null float64\n",
      "dtypes: datetime64[ns](1), float64(5), int64(1), object(8)\n",
      "memory usage: 329.2+ KB\n"
     ]
    }
   ],
   "source": [
    "df.info()"
   ]
  },
  {
   "cell_type": "code",
   "execution_count": 39,
   "metadata": {},
   "outputs": [
    {
     "data": {
      "text/plain": [
       "1.0     1958\n",
       "2.0       23\n",
       "5.0        2\n",
       "8.0        2\n",
       "3.0        1\n",
       "12.0       1\n",
       "11.0       1\n",
       "13.0       1\n",
       "4.0        1\n",
       "9.0        1\n",
       "17.0       1\n",
       "15.0       1\n",
       "7.0        1\n",
       "Name: dog_count, dtype: int64"
      ]
     },
     "execution_count": 39,
     "metadata": {},
     "output_type": "execute_result"
    }
   ],
   "source": [
    "df['dog_count'].value_counts()"
   ]
  },
  {
   "cell_type": "markdown",
   "metadata": {},
   "source": [
    "### Define:  Extract Names of Dogs\n",
    "### Code:"
   ]
  },
  {
   "cell_type": "code",
   "execution_count": 40,
   "metadata": {},
   "outputs": [],
   "source": [
    "df['text_split'] = df['text'].str.split()"
   ]
  },
  {
   "cell_type": "code",
   "execution_count": 41,
   "metadata": {
    "scrolled": true
   },
   "outputs": [],
   "source": [
    "names = []\n",
    "\n",
    "# use string starts with method to clean this up\n",
    "\n",
    "def extract_names(row):\n",
    "    \n",
    "    # 'named Phineas'           \n",
    "    if 'named' in row['text'] and re.match(r'[A-Z].*', row['text_split'][(row['text_split'].index('named') + 1)]): \n",
    "            names.append(row['text_split'][(row['text_split'].index('named') + 1)])\n",
    "    \n",
    "    # 'Here we have Phineas'\n",
    "    elif row['text'].startswith('Here we have ') and re.match(r'[A-Z].*', row['text_split'][3]):\n",
    "            names.append(row['text_split'][3].strip('.').strip(','))\n",
    "            \n",
    "    # 'This is Phineas'\n",
    "    elif row['text'].startswith('This is ') and re.match(r'[A-Z].*', row['text_split'][2]):\n",
    "            names.append(row['text_split'][2].strip('.').strip(','))\n",
    "    \n",
    "    # 'Say hello to Phineas'\n",
    "    elif row['text'].startswith('Say hello to ') and re.match(r'[A-Z].*', row['text_split'][3]):\n",
    "            names.append(row['text_split'][3].strip('.').strip(','))\n",
    "    \n",
    "    # 'Meet Phineas'\n",
    "    elif row['text'].startswith('Meet ') and re.match(r'[A-Z].*', row['text_split'][1]):\n",
    "            names.append(row['text_split'][1].strip('.').strip(','))\n",
    "            \n",
    "    else:\n",
    "        names.append('Nameless')\n",
    "        \n",
    "        \n",
    "df.apply(extract_names, axis=1)\n",
    "\n",
    "df['names'] = names"
   ]
  },
  {
   "cell_type": "code",
   "execution_count": 42,
   "metadata": {},
   "outputs": [
    {
     "data": {
      "text/plain": [
       "Nameless    625\n",
       "Charlie      11\n",
       "Oliver       10\n",
       "Lucy         10\n",
       "Cooper       10\n",
       "Tucker        9\n",
       "Penny         9\n",
       "Sadie         8\n",
       "Winston       8\n",
       "Lola          7\n",
       "Daisy         7\n",
       "Toby          6\n",
       "Jax           6\n",
       "Koda          6\n",
       "Bella         6\n",
       "Bo            6\n",
       "Stanley       6\n",
       "Rusty         5\n",
       "Buddy         5\n",
       "Milo          5\n",
       "Oscar         5\n",
       "Scout         5\n",
       "Chester       5\n",
       "Bailey        5\n",
       "Leo           5\n",
       "Louis         5\n",
       "Clarence      4\n",
       "Reggie        4\n",
       "Brody         4\n",
       "Alfie         4\n",
       "           ... \n",
       "Jamesy        1\n",
       "Iggy          1\n",
       "Gustav        1\n",
       "Farfle        1\n",
       "Nollie        1\n",
       "Timber        1\n",
       "Chubbs        1\n",
       "Andru         1\n",
       "Willy         1\n",
       "Cecil         1\n",
       "Marq          1\n",
       "Ebby          1\n",
       "Benny         1\n",
       "Meera         1\n",
       "Mason         1\n",
       "Fwed          1\n",
       "Happy         1\n",
       "Kane          1\n",
       "Robin         1\n",
       "Kobe          1\n",
       "Crouton       1\n",
       "Jameson       1\n",
       "Klint.        1\n",
       "Theo          1\n",
       "Chevy         1\n",
       "Katie         1\n",
       "Lance         1\n",
       "Butters       1\n",
       "Mauve         1\n",
       "Tonks         1\n",
       "Name: names, Length: 938, dtype: int64"
      ]
     },
     "execution_count": 42,
     "metadata": {},
     "output_type": "execute_result"
    }
   ],
   "source": [
    "df['names'].value_counts()"
   ]
  },
  {
   "cell_type": "markdown",
   "metadata": {},
   "source": [
    "\"a\", \"the\" and all non-name words have been removed."
   ]
  },
  {
   "cell_type": "code",
   "execution_count": 43,
   "metadata": {},
   "outputs": [],
   "source": [
    "df.drop(['text_split'], axis=1, inplace=True)"
   ]
  },
  {
   "cell_type": "code",
   "execution_count": 44,
   "metadata": {},
   "outputs": [],
   "source": [
    "df.loc[df['names'] == 'Nameless', 'names'] = None\n",
    "df.loc[df['breed'] == 'Unidentifiable', 'breed'] = None\n",
    "df.loc[df['dog_type'] == 'None', 'dog_type'] = None\n",
    "df.loc[df['rating'] == 0.0, 'rating'] = np.nan\n",
    "df.loc[df['confidence'] == 0.0, 'confidence'] = np.nan"
   ]
  },
  {
   "cell_type": "markdown",
   "metadata": {},
   "source": [
    "### Test:"
   ]
  },
  {
   "cell_type": "code",
   "execution_count": 47,
   "metadata": {},
   "outputs": [
    {
     "name": "stdout",
     "output_type": "stream",
     "text": [
      "<class 'pandas.core.frame.DataFrame'>\n",
      "Int64Index: 1994 entries, 0 to 2355\n",
      "Data columns (total 16 columns):\n",
      "tweet_id         1994 non-null int64\n",
      "timestamp        1994 non-null datetime64[ns]\n",
      "source           1994 non-null object\n",
      "text             1994 non-null object\n",
      "expanded_urls    1994 non-null object\n",
      "name             1994 non-null object\n",
      "jpg_url          1994 non-null object\n",
      "img_num          1994 non-null float64\n",
      "favorites        1994 non-null float64\n",
      "retweets         1994 non-null float64\n",
      "dog_type         369 non-null object\n",
      "breed            1686 non-null object\n",
      "confidence       1686 non-null float64\n",
      "rating           1992 non-null object\n",
      "dog_count        1994 non-null float64\n",
      "names            1369 non-null object\n",
      "dtypes: datetime64[ns](1), float64(5), int64(1), object(9)\n",
      "memory usage: 344.8+ KB\n"
     ]
    }
   ],
   "source": [
    "df.info()"
   ]
  },
  {
   "cell_type": "markdown",
   "metadata": {},
   "source": [
    "Saving the cleaned file."
   ]
  },
  {
   "cell_type": "code",
   "execution_count": 48,
   "metadata": {},
   "outputs": [],
   "source": [
    "df.to_csv('twitter_archive_master.csv', encoding = 'utf-8')"
   ]
  },
  {
   "cell_type": "markdown",
   "metadata": {},
   "source": [
    "## 4.Analysis of given Tweets"
   ]
  },
  {
   "cell_type": "code",
   "execution_count": 49,
   "metadata": {},
   "outputs": [],
   "source": [
    "%matplotlib inline\n",
    "#import matplotlib\n",
    "import matplotlib.pyplot as plt"
   ]
  },
  {
   "cell_type": "code",
   "execution_count": 50,
   "metadata": {},
   "outputs": [],
   "source": [
    "df = pd.read_csv('twitter_archive_master.csv')\n",
    "df['timestamp'] = pd.to_datetime(df['timestamp'])\n",
    "df.set_index('timestamp', inplace=True)"
   ]
  },
  {
   "cell_type": "markdown",
   "metadata": {},
   "source": [
    "###  Correlation - Retweets, Favorites, Ratings"
   ]
  },
  {
   "cell_type": "code",
   "execution_count": 51,
   "metadata": {},
   "outputs": [
    {
     "data": {
      "image/png": "[encoded data removed]",
      "text/plain": [
       "<matplotlib.figure.Figure at 0x7f2c99147d68>"
      ]
     },
     "metadata": {},
     "output_type": "display_data"
    }
   ],
   "source": [
    "df[['favorites', 'retweets']].plot(style = '.', alpha = 0.4)\n",
    "plt.title('Favorites and Retweets with Time')\n",
    "plt.xlabel('Date')\n",
    "plt.ylabel('Count');"
   ]
  },
  {
   "cell_type": "code",
   "execution_count": 52,
   "metadata": {},
   "outputs": [
    {
     "data": {
      "image/png": "[encoded data removed]",
      "text/plain": [
       "<matplotlib.figure.Figure at 0x7f2c9990bbe0>"
      ]
     },
     "metadata": {},
     "output_type": "display_data"
    }
   ],
   "source": [
    "df.plot(y ='rating', ylim=[0,14], style = '.', alpha = 0.4)\n",
    "plt.title('Rating with Time')\n",
    "plt.xlabel('Date')\n",
    "plt.ylabel('Rating');"
   ]
  },
  {
   "cell_type": "markdown",
   "metadata": {},
   "source": [
    "Here you can see the gradual increase of both favorites and retweets over time."
   ]
  },
  {
   "cell_type": "code",
   "execution_count": 53,
   "metadata": {},
   "outputs": [
    {
     "data": {
      "text/html": [
       "<div>\n",
       "<style>\n",
       "    .dataframe thead tr:only-child th {\n",
       "        text-align: right;\n",
       "    }\n",
       "\n",
       "    .dataframe thead th {\n",
       "        text-align: left;\n",
       "    }\n",
       "\n",
       "    .dataframe tbody tr th {\n",
       "        vertical-align: top;\n",
       "    }\n",
       "</style>\n",
       "<table border=\"1\" class=\"dataframe\">\n",
       "  <thead>\n",
       "    <tr style=\"text-align: right;\">\n",
       "      <th></th>\n",
       "      <th>favorites</th>\n",
       "      <th>rating</th>\n",
       "      <th>retweets</th>\n",
       "    </tr>\n",
       "  </thead>\n",
       "  <tbody>\n",
       "    <tr>\n",
       "      <th>favorites</th>\n",
       "      <td>1.000000</td>\n",
       "      <td>0.023010</td>\n",
       "      <td>0.916447</td>\n",
       "    </tr>\n",
       "    <tr>\n",
       "      <th>rating</th>\n",
       "      <td>0.023010</td>\n",
       "      <td>1.000000</td>\n",
       "      <td>0.023557</td>\n",
       "    </tr>\n",
       "    <tr>\n",
       "      <th>retweets</th>\n",
       "      <td>0.916447</td>\n",
       "      <td>0.023557</td>\n",
       "      <td>1.000000</td>\n",
       "    </tr>\n",
       "  </tbody>\n",
       "</table>\n",
       "</div>"
      ],
      "text/plain": [
       "           favorites    rating  retweets\n",
       "favorites   1.000000  0.023010  0.916447\n",
       "rating      0.023010  1.000000  0.023557\n",
       "retweets    0.916447  0.023557  1.000000"
      ]
     },
     "execution_count": 53,
     "metadata": {},
     "output_type": "execute_result"
    }
   ],
   "source": [
    "df[['favorites', 'rating', 'retweets']].corr(method='pearson')"
   ]
  },
  {
   "cell_type": "markdown",
   "metadata": {},
   "source": [
    "So Brant was right, there are more ratings above 10. Still don't know the reason why there are so much high ratings.\n",
    "\n",
    "So let's see if dogs with higher ratings were getting more favorites and retweets. According to me, if the dogs are getting better they should be getting more favorites and retweets along with the higher rating. There is a strong correlation between favorites and retweets. This means that if the tweet is good in general then there will be more retweets and favorites.\n",
    "\n",
    "Yet there is no correlation between rating and retweets or rating and favorites. It can be because the dogs are not actually getting better. It can be that 'lower quality' dogs are given funnier captions. In this case, it is the caption that is getting more retweets and favorites, rather than the dog itself."
   ]
  },
  {
   "cell_type": "markdown",
   "metadata": {},
   "source": [
    "### Dog Stages Boxplot"
   ]
  },
  {
   "cell_type": "code",
   "execution_count": 54,
   "metadata": {},
   "outputs": [
    {
     "name": "stderr",
     "output_type": "stream",
     "text": [
      "/opt/conda/lib/python3.6/site-packages/numpy/core/fromnumeric.py:57: FutureWarning: reshape is deprecated and will raise in a subsequent release. Please use .values.reshape(...) instead\n",
      "  return getattr(obj, method)(*args, **kwds)\n"
     ]
    },
    {
     "data": {
      "image/png": "[encoded data removed]",
      "text/plain": [
       "<matplotlib.figure.Figure at 0x7f2c9bde7cf8>"
      ]
     },
     "metadata": {},
     "output_type": "display_data"
    }
   ],
   "source": [
    "df.boxplot(column='rating', by='dog_type');"
   ]
  },
  {
   "cell_type": "code",
   "execution_count": 55,
   "metadata": {},
   "outputs": [
    {
     "data": {
      "text/html": [
       "<div>\n",
       "<style>\n",
       "    .dataframe thead tr:only-child th {\n",
       "        text-align: right;\n",
       "    }\n",
       "\n",
       "    .dataframe thead th {\n",
       "        text-align: left;\n",
       "    }\n",
       "\n",
       "    .dataframe tbody tr th {\n",
       "        vertical-align: top;\n",
       "    }\n",
       "</style>\n",
       "<table border=\"1\" class=\"dataframe\">\n",
       "  <thead>\n",
       "    <tr style=\"text-align: right;\">\n",
       "      <th></th>\n",
       "      <th>count</th>\n",
       "      <th>mean</th>\n",
       "      <th>std</th>\n",
       "      <th>min</th>\n",
       "      <th>25%</th>\n",
       "      <th>50%</th>\n",
       "      <th>75%</th>\n",
       "      <th>max</th>\n",
       "    </tr>\n",
       "    <tr>\n",
       "      <th>dog_type</th>\n",
       "      <th></th>\n",
       "      <th></th>\n",
       "      <th></th>\n",
       "      <th></th>\n",
       "      <th></th>\n",
       "      <th></th>\n",
       "      <th></th>\n",
       "      <th></th>\n",
       "    </tr>\n",
       "  </thead>\n",
       "  <tbody>\n",
       "    <tr>\n",
       "      <th>doggo</th>\n",
       "      <td>69.0</td>\n",
       "      <td>11.797101</td>\n",
       "      <td>1.510548</td>\n",
       "      <td>8.0</td>\n",
       "      <td>11.0</td>\n",
       "      <td>12.0</td>\n",
       "      <td>13.0</td>\n",
       "      <td>14.0</td>\n",
       "    </tr>\n",
       "    <tr>\n",
       "      <th>floof</th>\n",
       "      <td>34.0</td>\n",
       "      <td>11.705882</td>\n",
       "      <td>0.759961</td>\n",
       "      <td>10.0</td>\n",
       "      <td>11.0</td>\n",
       "      <td>12.0</td>\n",
       "      <td>12.0</td>\n",
       "      <td>13.0</td>\n",
       "    </tr>\n",
       "    <tr>\n",
       "      <th>pupper</th>\n",
       "      <td>237.0</td>\n",
       "      <td>10.616160</td>\n",
       "      <td>1.833623</td>\n",
       "      <td>3.0</td>\n",
       "      <td>10.0</td>\n",
       "      <td>11.0</td>\n",
       "      <td>12.0</td>\n",
       "      <td>14.0</td>\n",
       "    </tr>\n",
       "    <tr>\n",
       "      <th>puppo</th>\n",
       "      <td>29.0</td>\n",
       "      <td>12.172414</td>\n",
       "      <td>1.197288</td>\n",
       "      <td>9.0</td>\n",
       "      <td>12.0</td>\n",
       "      <td>13.0</td>\n",
       "      <td>13.0</td>\n",
       "      <td>14.0</td>\n",
       "    </tr>\n",
       "  </tbody>\n",
       "</table>\n",
       "</div>"
      ],
      "text/plain": [
       "          count       mean       std   min   25%   50%   75%   max\n",
       "dog_type                                                          \n",
       "doggo      69.0  11.797101  1.510548   8.0  11.0  12.0  13.0  14.0\n",
       "floof      34.0  11.705882  0.759961  10.0  11.0  12.0  12.0  13.0\n",
       "pupper    237.0  10.616160  1.833623   3.0  10.0  11.0  12.0  14.0\n",
       "puppo      29.0  12.172414  1.197288   9.0  12.0  13.0  13.0  14.0"
      ]
     },
     "execution_count": 55,
     "metadata": {},
     "output_type": "execute_result"
    }
   ],
   "source": [
    "df.groupby('dog_type')['rating'].describe()"
   ]
  },
  {
   "cell_type": "code",
   "execution_count": 56,
   "metadata": {},
   "outputs": [
    {
     "data": {
      "text/html": [
       "<div>\n",
       "<style>\n",
       "    .dataframe thead tr:only-child th {\n",
       "        text-align: right;\n",
       "    }\n",
       "\n",
       "    .dataframe thead th {\n",
       "        text-align: left;\n",
       "    }\n",
       "\n",
       "    .dataframe tbody tr th {\n",
       "        vertical-align: top;\n",
       "    }\n",
       "</style>\n",
       "<table border=\"1\" class=\"dataframe\">\n",
       "  <thead>\n",
       "    <tr style=\"text-align: right;\">\n",
       "      <th></th>\n",
       "      <th>count</th>\n",
       "      <th>unique</th>\n",
       "      <th>top</th>\n",
       "      <th>freq</th>\n",
       "      <th>first</th>\n",
       "      <th>last</th>\n",
       "    </tr>\n",
       "    <tr>\n",
       "      <th>dog_type</th>\n",
       "      <th></th>\n",
       "      <th></th>\n",
       "      <th></th>\n",
       "      <th></th>\n",
       "      <th></th>\n",
       "      <th></th>\n",
       "    </tr>\n",
       "  </thead>\n",
       "  <tbody>\n",
       "    <tr>\n",
       "      <th>doggo</th>\n",
       "      <td>69</td>\n",
       "      <td>69</td>\n",
       "      <td>2016-11-18 23:35:32</td>\n",
       "      <td>1</td>\n",
       "      <td>2016-04-02 01:52:38</td>\n",
       "      <td>2017-07-26 15:59:51</td>\n",
       "    </tr>\n",
       "    <tr>\n",
       "      <th>floof</th>\n",
       "      <td>34</td>\n",
       "      <td>34</td>\n",
       "      <td>2016-07-05 20:41:01</td>\n",
       "      <td>1</td>\n",
       "      <td>2016-01-08 03:50:03</td>\n",
       "      <td>2017-07-18 00:07:08</td>\n",
       "    </tr>\n",
       "    <tr>\n",
       "      <th>pupper</th>\n",
       "      <td>237</td>\n",
       "      <td>237</td>\n",
       "      <td>2016-01-30 02:41:58</td>\n",
       "      <td>1</td>\n",
       "      <td>2015-11-26 21:36:12</td>\n",
       "      <td>2017-07-15 23:25:31</td>\n",
       "    </tr>\n",
       "    <tr>\n",
       "      <th>puppo</th>\n",
       "      <td>29</td>\n",
       "      <td>29</td>\n",
       "      <td>2017-01-29 02:44:34</td>\n",
       "      <td>1</td>\n",
       "      <td>2016-06-03 01:07:16</td>\n",
       "      <td>2017-07-25 01:55:32</td>\n",
       "    </tr>\n",
       "  </tbody>\n",
       "</table>\n",
       "</div>"
      ],
      "text/plain": [
       "         count unique                  top freq                first  \\\n",
       "dog_type                                                               \n",
       "doggo       69     69  2016-11-18 23:35:32    1  2016-04-02 01:52:38   \n",
       "floof       34     34  2016-07-05 20:41:01    1  2016-01-08 03:50:03   \n",
       "pupper     237    237  2016-01-30 02:41:58    1  2015-11-26 21:36:12   \n",
       "puppo       29     29  2017-01-29 02:44:34    1  2016-06-03 01:07:16   \n",
       "\n",
       "                         last  \n",
       "dog_type                       \n",
       "doggo     2017-07-26 15:59:51  \n",
       "floof     2017-07-18 00:07:08  \n",
       "pupper    2017-07-15 23:25:31  \n",
       "puppo     2017-07-25 01:55:32  "
      ]
     },
     "execution_count": 56,
     "metadata": {},
     "output_type": "execute_result"
    }
   ],
   "source": [
    "df.reset_index(inplace=True)\n",
    "df.groupby('dog_type')['timestamp'].describe()"
   ]
  },
  {
   "cell_type": "markdown",
   "metadata": {},
   "source": [
    "So puppers are getting much lower rates than the other dog types. They have several low outliers which decrease the mean to 10.6.\n",
    "\n",
    "Floofers are consistently rated above 10. I don't know whether they are really good or the rating just gets higher with time. Maybe we can see if 'floof' is a newer term.\n",
    "\n",
    "Here we see that 'floof' is not a new term, first seen on January 2016. So we can say that floofer are consistently good dogs."
   ]
  },
  {
   "cell_type": "markdown",
   "metadata": {},
   "source": [
    "### Most Rated Dog Breeds"
   ]
  },
  {
   "cell_type": "code",
   "execution_count": 57,
   "metadata": {},
   "outputs": [
    {
     "data": {
      "image/png": "[encoded data removed]",
      "text/plain": [
       "<matplotlib.figure.Figure at 0x7f2c9985b978>"
      ]
     },
     "metadata": {},
     "output_type": "display_data"
    }
   ],
   "source": [
    "top=df.groupby('breed').filter(lambda x: len(x) >= 20)\n",
    "top['breed'].value_counts().plot(kind = 'bar')\n",
    "plt.title('The Most Rated Breeds');"
   ]
  },
  {
   "cell_type": "markdown",
   "metadata": {},
   "source": [
    "It's difficult to know why these breeds are the top breeds. It could be because they are commonly owned. Or they could be the easiest to identify by the AI that identified them."
   ]
  },
  {
   "cell_type": "code",
   "execution_count": 58,
   "metadata": {},
   "outputs": [
    {
     "data": {
      "text/html": [
       "<div>\n",
       "<style>\n",
       "    .dataframe thead tr:only-child th {\n",
       "        text-align: right;\n",
       "    }\n",
       "\n",
       "    .dataframe thead th {\n",
       "        text-align: left;\n",
       "    }\n",
       "\n",
       "    .dataframe tbody tr th {\n",
       "        vertical-align: top;\n",
       "    }\n",
       "</style>\n",
       "<table border=\"1\" class=\"dataframe\">\n",
       "  <thead>\n",
       "    <tr style=\"text-align: right;\">\n",
       "      <th></th>\n",
       "      <th>count</th>\n",
       "      <th>mean</th>\n",
       "      <th>std</th>\n",
       "      <th>min</th>\n",
       "      <th>25%</th>\n",
       "      <th>50%</th>\n",
       "      <th>75%</th>\n",
       "      <th>max</th>\n",
       "    </tr>\n",
       "    <tr>\n",
       "      <th>breed</th>\n",
       "      <th></th>\n",
       "      <th></th>\n",
       "      <th></th>\n",
       "      <th></th>\n",
       "      <th></th>\n",
       "      <th></th>\n",
       "      <th></th>\n",
       "      <th></th>\n",
       "    </tr>\n",
       "  </thead>\n",
       "  <tbody>\n",
       "    <tr>\n",
       "      <th>Cardigan</th>\n",
       "      <td>21.0</td>\n",
       "      <td>11.142857</td>\n",
       "      <td>1.590148</td>\n",
       "      <td>7.0</td>\n",
       "      <td>10.00</td>\n",
       "      <td>11.00</td>\n",
       "      <td>12.0</td>\n",
       "      <td>13.0</td>\n",
       "    </tr>\n",
       "    <tr>\n",
       "      <th>Chesapeake_Bay_retriever</th>\n",
       "      <td>31.0</td>\n",
       "      <td>10.741935</td>\n",
       "      <td>1.510358</td>\n",
       "      <td>8.0</td>\n",
       "      <td>10.00</td>\n",
       "      <td>10.00</td>\n",
       "      <td>12.0</td>\n",
       "      <td>13.0</td>\n",
       "    </tr>\n",
       "    <tr>\n",
       "      <th>Chihuahua</th>\n",
       "      <td>91.0</td>\n",
       "      <td>10.516484</td>\n",
       "      <td>2.071568</td>\n",
       "      <td>3.0</td>\n",
       "      <td>9.50</td>\n",
       "      <td>11.00</td>\n",
       "      <td>12.0</td>\n",
       "      <td>14.0</td>\n",
       "    </tr>\n",
       "    <tr>\n",
       "      <th>Eskimo_dog</th>\n",
       "      <td>22.0</td>\n",
       "      <td>11.409091</td>\n",
       "      <td>1.402688</td>\n",
       "      <td>9.0</td>\n",
       "      <td>10.00</td>\n",
       "      <td>12.00</td>\n",
       "      <td>12.0</td>\n",
       "      <td>14.0</td>\n",
       "    </tr>\n",
       "    <tr>\n",
       "      <th>French_bulldog</th>\n",
       "      <td>31.0</td>\n",
       "      <td>11.193548</td>\n",
       "      <td>1.796652</td>\n",
       "      <td>8.0</td>\n",
       "      <td>10.00</td>\n",
       "      <td>12.00</td>\n",
       "      <td>12.0</td>\n",
       "      <td>14.0</td>\n",
       "    </tr>\n",
       "    <tr>\n",
       "      <th>German_shepherd</th>\n",
       "      <td>21.0</td>\n",
       "      <td>11.000000</td>\n",
       "      <td>1.449138</td>\n",
       "      <td>8.0</td>\n",
       "      <td>10.00</td>\n",
       "      <td>11.00</td>\n",
       "      <td>12.0</td>\n",
       "      <td>13.0</td>\n",
       "    </tr>\n",
       "    <tr>\n",
       "      <th>Labrador_retriever</th>\n",
       "      <td>108.0</td>\n",
       "      <td>11.180556</td>\n",
       "      <td>1.324567</td>\n",
       "      <td>7.0</td>\n",
       "      <td>10.00</td>\n",
       "      <td>11.00</td>\n",
       "      <td>12.0</td>\n",
       "      <td>14.0</td>\n",
       "    </tr>\n",
       "    <tr>\n",
       "      <th>Pembroke</th>\n",
       "      <td>95.0</td>\n",
       "      <td>11.389474</td>\n",
       "      <td>1.746088</td>\n",
       "      <td>4.0</td>\n",
       "      <td>11.00</td>\n",
       "      <td>12.00</td>\n",
       "      <td>12.0</td>\n",
       "      <td>14.0</td>\n",
       "    </tr>\n",
       "    <tr>\n",
       "      <th>Pomeranian</th>\n",
       "      <td>42.0</td>\n",
       "      <td>10.779762</td>\n",
       "      <td>1.619435</td>\n",
       "      <td>6.0</td>\n",
       "      <td>10.00</td>\n",
       "      <td>11.00</td>\n",
       "      <td>12.0</td>\n",
       "      <td>14.0</td>\n",
       "    </tr>\n",
       "    <tr>\n",
       "      <th>Samoyed</th>\n",
       "      <td>42.0</td>\n",
       "      <td>11.690476</td>\n",
       "      <td>1.352290</td>\n",
       "      <td>7.0</td>\n",
       "      <td>11.00</td>\n",
       "      <td>12.00</td>\n",
       "      <td>13.0</td>\n",
       "      <td>14.0</td>\n",
       "    </tr>\n",
       "    <tr>\n",
       "      <th>Shih-Tzu</th>\n",
       "      <td>20.0</td>\n",
       "      <td>10.350000</td>\n",
       "      <td>1.308877</td>\n",
       "      <td>8.0</td>\n",
       "      <td>9.75</td>\n",
       "      <td>10.50</td>\n",
       "      <td>11.0</td>\n",
       "      <td>13.0</td>\n",
       "    </tr>\n",
       "    <tr>\n",
       "      <th>Siberian_husky</th>\n",
       "      <td>20.0</td>\n",
       "      <td>11.025000</td>\n",
       "      <td>1.720427</td>\n",
       "      <td>5.5</td>\n",
       "      <td>10.00</td>\n",
       "      <td>11.00</td>\n",
       "      <td>12.0</td>\n",
       "      <td>13.0</td>\n",
       "    </tr>\n",
       "    <tr>\n",
       "      <th>Staffordshire_bullterrier</th>\n",
       "      <td>21.0</td>\n",
       "      <td>10.761905</td>\n",
       "      <td>1.374946</td>\n",
       "      <td>8.0</td>\n",
       "      <td>10.00</td>\n",
       "      <td>11.00</td>\n",
       "      <td>12.0</td>\n",
       "      <td>13.0</td>\n",
       "    </tr>\n",
       "    <tr>\n",
       "      <th>beagle</th>\n",
       "      <td>20.0</td>\n",
       "      <td>10.150000</td>\n",
       "      <td>1.531253</td>\n",
       "      <td>6.0</td>\n",
       "      <td>9.75</td>\n",
       "      <td>10.00</td>\n",
       "      <td>11.0</td>\n",
       "      <td>13.0</td>\n",
       "    </tr>\n",
       "    <tr>\n",
       "      <th>chow</th>\n",
       "      <td>48.0</td>\n",
       "      <td>11.416667</td>\n",
       "      <td>1.350072</td>\n",
       "      <td>7.0</td>\n",
       "      <td>11.00</td>\n",
       "      <td>12.00</td>\n",
       "      <td>12.0</td>\n",
       "      <td>13.0</td>\n",
       "    </tr>\n",
       "    <tr>\n",
       "      <th>cocker_spaniel</th>\n",
       "      <td>30.0</td>\n",
       "      <td>11.316667</td>\n",
       "      <td>1.177983</td>\n",
       "      <td>9.0</td>\n",
       "      <td>10.25</td>\n",
       "      <td>11.25</td>\n",
       "      <td>12.0</td>\n",
       "      <td>13.0</td>\n",
       "    </tr>\n",
       "    <tr>\n",
       "      <th>golden_retriever</th>\n",
       "      <td>157.0</td>\n",
       "      <td>11.624204</td>\n",
       "      <td>1.188427</td>\n",
       "      <td>8.0</td>\n",
       "      <td>11.00</td>\n",
       "      <td>12.00</td>\n",
       "      <td>12.0</td>\n",
       "      <td>14.0</td>\n",
       "    </tr>\n",
       "    <tr>\n",
       "      <th>malamute</th>\n",
       "      <td>33.0</td>\n",
       "      <td>10.878788</td>\n",
       "      <td>1.218544</td>\n",
       "      <td>8.0</td>\n",
       "      <td>10.00</td>\n",
       "      <td>11.00</td>\n",
       "      <td>12.0</td>\n",
       "      <td>13.0</td>\n",
       "    </tr>\n",
       "    <tr>\n",
       "      <th>miniature_pinscher</th>\n",
       "      <td>25.0</td>\n",
       "      <td>10.000000</td>\n",
       "      <td>2.565801</td>\n",
       "      <td>2.0</td>\n",
       "      <td>9.00</td>\n",
       "      <td>11.00</td>\n",
       "      <td>12.0</td>\n",
       "      <td>12.0</td>\n",
       "    </tr>\n",
       "    <tr>\n",
       "      <th>pug</th>\n",
       "      <td>62.0</td>\n",
       "      <td>10.241935</td>\n",
       "      <td>1.816910</td>\n",
       "      <td>3.0</td>\n",
       "      <td>9.25</td>\n",
       "      <td>10.00</td>\n",
       "      <td>11.0</td>\n",
       "      <td>13.0</td>\n",
       "    </tr>\n",
       "    <tr>\n",
       "      <th>toy_poodle</th>\n",
       "      <td>51.0</td>\n",
       "      <td>11.039216</td>\n",
       "      <td>1.264291</td>\n",
       "      <td>7.0</td>\n",
       "      <td>10.00</td>\n",
       "      <td>11.00</td>\n",
       "      <td>12.0</td>\n",
       "      <td>13.0</td>\n",
       "    </tr>\n",
       "  </tbody>\n",
       "</table>\n",
       "</div>"
      ],
      "text/plain": [
       "                           count       mean       std  min    25%    50%  \\\n",
       "breed                                                                      \n",
       "Cardigan                    21.0  11.142857  1.590148  7.0  10.00  11.00   \n",
       "Chesapeake_Bay_retriever    31.0  10.741935  1.510358  8.0  10.00  10.00   \n",
       "Chihuahua                   91.0  10.516484  2.071568  3.0   9.50  11.00   \n",
       "Eskimo_dog                  22.0  11.409091  1.402688  9.0  10.00  12.00   \n",
       "French_bulldog              31.0  11.193548  1.796652  8.0  10.00  12.00   \n",
       "German_shepherd             21.0  11.000000  1.449138  8.0  10.00  11.00   \n",
       "Labrador_retriever         108.0  11.180556  1.324567  7.0  10.00  11.00   \n",
       "Pembroke                    95.0  11.389474  1.746088  4.0  11.00  12.00   \n",
       "Pomeranian                  42.0  10.779762  1.619435  6.0  10.00  11.00   \n",
       "Samoyed                     42.0  11.690476  1.352290  7.0  11.00  12.00   \n",
       "Shih-Tzu                    20.0  10.350000  1.308877  8.0   9.75  10.50   \n",
       "Siberian_husky              20.0  11.025000  1.720427  5.5  10.00  11.00   \n",
       "Staffordshire_bullterrier   21.0  10.761905  1.374946  8.0  10.00  11.00   \n",
       "beagle                      20.0  10.150000  1.531253  6.0   9.75  10.00   \n",
       "chow                        48.0  11.416667  1.350072  7.0  11.00  12.00   \n",
       "cocker_spaniel              30.0  11.316667  1.177983  9.0  10.25  11.25   \n",
       "golden_retriever           157.0  11.624204  1.188427  8.0  11.00  12.00   \n",
       "malamute                    33.0  10.878788  1.218544  8.0  10.00  11.00   \n",
       "miniature_pinscher          25.0  10.000000  2.565801  2.0   9.00  11.00   \n",
       "pug                         62.0  10.241935  1.816910  3.0   9.25  10.00   \n",
       "toy_poodle                  51.0  11.039216  1.264291  7.0  10.00  11.00   \n",
       "\n",
       "                            75%   max  \n",
       "breed                                  \n",
       "Cardigan                   12.0  13.0  \n",
       "Chesapeake_Bay_retriever   12.0  13.0  \n",
       "Chihuahua                  12.0  14.0  \n",
       "Eskimo_dog                 12.0  14.0  \n",
       "French_bulldog             12.0  14.0  \n",
       "German_shepherd            12.0  13.0  \n",
       "Labrador_retriever         12.0  14.0  \n",
       "Pembroke                   12.0  14.0  \n",
       "Pomeranian                 12.0  14.0  \n",
       "Samoyed                    13.0  14.0  \n",
       "Shih-Tzu                   11.0  13.0  \n",
       "Siberian_husky             12.0  13.0  \n",
       "Staffordshire_bullterrier  12.0  13.0  \n",
       "beagle                     11.0  13.0  \n",
       "chow                       12.0  13.0  \n",
       "cocker_spaniel             12.0  13.0  \n",
       "golden_retriever           12.0  14.0  \n",
       "malamute                   12.0  13.0  \n",
       "miniature_pinscher         12.0  12.0  \n",
       "pug                        11.0  13.0  \n",
       "toy_poodle                 12.0  13.0  "
      ]
     },
     "execution_count": 58,
     "metadata": {},
     "output_type": "execute_result"
    }
   ],
   "source": [
    "top.groupby('breed')['rating'].describe()"
   ]
  },
  {
   "cell_type": "code",
   "execution_count": 59,
   "metadata": {},
   "outputs": [
    {
     "data": {
      "text/plain": [
       "count    1991.000000\n",
       "mean       11.647638\n",
       "std        40.668547\n",
       "min         1.000000\n",
       "25%        10.000000\n",
       "50%        11.000000\n",
       "75%        12.000000\n",
       "max      1776.000000\n",
       "Name: rating, dtype: float64"
      ]
     },
     "execution_count": 59,
     "metadata": {},
     "output_type": "execute_result"
    }
   ],
   "source": [
    "df['rating'].describe()"
   ]
  },
  {
   "cell_type": "code",
   "execution_count": 60,
   "metadata": {},
   "outputs": [
    {
     "data": {
      "text/plain": [
       "count    1989.000000\n",
       "mean       10.555277\n",
       "std         2.157977\n",
       "min         1.000000\n",
       "25%        10.000000\n",
       "50%        11.000000\n",
       "75%        12.000000\n",
       "max        14.000000\n",
       "Name: rating, dtype: float64"
      ]
     },
     "execution_count": 60,
     "metadata": {},
     "output_type": "execute_result"
    }
   ],
   "source": [
    "df[df['rating'] <= 14]['rating'].describe()"
   ]
  },
  {
   "cell_type": "markdown",
   "metadata": {},
   "source": [
    "Here we have a statistical comparison of the top breeds with all the ratings. Only one of the top breeds has a mean higher than the total population mean. This is because of these two ratings: 420 and 1776. Excluding outliers bring down the mean to 10.55."
   ]
  },
  {
   "cell_type": "markdown",
   "metadata": {},
   "source": [
    "## Thankyou :) I hope it was insightful!"
   ]
  }
 ],
 "metadata": {
  "kernelspec": {
   "display_name": "Python 3",
   "language": "python",
   "name": "python3"
  },
  "language_info": {
   "codemirror_mode": {
    "name": "ipython",
    "version": 3
   },
   "file_extension": ".py",
   "mimetype": "text/x-python",
   "name": "python",
   "nbconvert_exporter": "python",
   "pygments_lexer": "ipython3",
   "version": "3.7.4"
  }
 },
 "nbformat": 4,
 "nbformat_minor": 2
}
